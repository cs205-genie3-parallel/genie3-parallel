{
  "cells": [
    {
      "cell_type": "code",
      "metadata": {
        "cell_id": "00000-dd7b045e-a4cb-45cf-92f4-372417375716",
        "tags": [],
        "deepnote_cell_type": "code"
      },
      "source": "import datetime\nimport tarfile\nimport boto3 # AWS SDK for python. Provides low-level access to AWS services\nfrom sagemaker import get_execution_role\nimport sagemaker\nfrom sagemaker.amazon.amazon_estimator import get_image_uri\nfrom sagemaker.session import s3_input, Session\n#from sagemaker.sklearn import SKLearn\nfrom sagemaker.sklearn.estimator import SKLearn\n\nm_boto3 = boto3.client('sagemaker') \nsess = sagemaker.Session()\n# region = sess.boto_session.region_name\n# bucket = sess.default_bucket()  #  Bucket is a logical unit of storage in AWS S3\nbucket_name = 'cs205-final'\ns3 = boto3.resource('s3')\nprint('Using bucket ' + s3)",
      "execution_count": 6,
      "outputs": []
    },
    {
      "cell_type": "code",
      "source": "# send data to S3. SageMaker will take training data from s3\n# trainpath = sess.upload_data(\n#     path='healthy.csv', bucket=bucket,\n#     key_prefix='sagemaker/sklearncontainer')\n\n# testpath = sess.upload_data(\n#     path='675_cancer.csv', bucket=bucket,\n#     key_prefix='sagemaker/sklearncontainer')\n\n\nhealthy_uri = f\"s3://{bucket_name}/healthy.tsv\"\ncancer_uri = f\"s3://{bucket_name}/675_cancer.tsv\"",
      "metadata": {
        "tags": [],
        "cell_id": "00001-264558f1-a8ee-4741-bed0-911da56c727e",
        "deepnote_cell_type": "code"
      },
      "outputs": [],
      "execution_count": null
    },
    {
      "cell_type": "code",
      "metadata": {
        "cell_id": "00001-bade0ab9-5ff7-4d44-8e0e-c17821b64b3c",
        "tags": [],
        "deepnote_cell_type": "code"
      },
      "source": "# my_region = boto3.session.Session().region_name\n\n# bucket_name = 'cs205-final'\n# s3 = boto3.resource('s3')\nn_instances = 1",
      "execution_count": 3,
      "outputs": []
    },
    {
      "cell_type": "code",
      "source": "sklearn_estimator = SKLearn(entry_point = 'GENIE3-sagemaker.py',\n                            #instance_type='ml.m4.xlarge',\n                            role=get_execution_role(),\n                            train_instance_count=1,\n                            train_instance_type='ml.m4.xlarge',\n                            framework_version='0.20.0',\n                            #base_job_name='rf-scikit',\n                            #hyperparameters = {'n-estimators': 500,'max_leaf_nodes': 16 }\n                            hyperparameters = {'start_idx': 0, 'stop_idx': 10})",
      "metadata": {
        "tags": [],
        "cell_id": "00004-6a94cbec-b6b5-4fa2-a366-83b87b5eec34",
        "deepnote_cell_type": "code"
      },
      "outputs": [],
      "execution_count": null
    },
    {
      "cell_type": "code",
      "metadata": {
        "cell_id": "00001-13a0fe70-de45-4826-9bb5-15f5f4703454",
        "tags": [],
        "deepnote_cell_type": "code"
      },
      "source": "# launch training job, with asynchronous call\nsklearn_estimator.fit({'train':healthy_uri}, wait=False)\n#sklearn_estimator.fit({'train': healthy_uri})",
      "execution_count": 11,
      "outputs": [
        {
          "name": "stdout",
          "output_type": "stream",
          "text": "2021-05-05 14:58:48 Starting - Starting the training job...\n2021-05-05 14:59:12 Starting - Launching requested ML instancesProfilerReport-1620226728: InProgress\n......\n2021-05-05 15:00:12 Starting - Preparing the instances for training.........\n2021-05-05 15:01:46 Downloading - Downloading input data\n2021-05-05 15:01:46 Training - Downloading the training image...\n2021-05-05 15:02:17 Training - Training image download completed. Training in progress..\u001b[34m2021-05-05 15:02:18,112 sagemaker-containers INFO     Imported framework sagemaker_sklearn_container.training\u001b[0m\n\u001b[34m2021-05-05 15:02:18,115 sagemaker-training-toolkit INFO     No GPUs detected (normal if no gpus installed)\u001b[0m\n\u001b[34m2021-05-05 15:02:18,127 sagemaker_sklearn_container.training INFO     Invoking user training script.\u001b[0m\n\u001b[34m2021-05-05 15:02:18,612 sagemaker-training-toolkit INFO     No GPUs detected (normal if no gpus installed)\u001b[0m\n\u001b[34m2021-05-05 15:02:18,835 sagemaker-training-toolkit INFO     No GPUs detected (normal if no gpus installed)\u001b[0m\n\u001b[34m2021-05-05 15:02:18,851 sagemaker-training-toolkit INFO     No GPUs detected (normal if no gpus installed)\u001b[0m\n\u001b[34m2021-05-05 15:02:18,863 sagemaker-training-toolkit INFO     Invoking user script\n\u001b[0m\n\u001b[34mTraining Env:\n\u001b[0m\n\u001b[34m{\n    \"additional_framework_parameters\": {},\n    \"channel_input_dirs\": {\n        \"train\": \"/opt/ml/input/data/train\"\n    },\n    \"current_host\": \"algo-1\",\n    \"framework_module\": \"sagemaker_sklearn_container.training:main\",\n    \"hosts\": [\n        \"algo-1\"\n    ],\n    \"hyperparameters\": {\n        \"start_idx\": 0,\n        \"stop_idx\": 10\n    },\n    \"input_config_dir\": \"/opt/ml/input/config\",\n    \"input_data_config\": {\n        \"train\": {\n            \"TrainingInputMode\": \"File\",\n            \"S3DistributionType\": \"FullyReplicated\",\n            \"RecordWrapperType\": \"None\"\n        }\n    },\n    \"input_dir\": \"/opt/ml/input\",\n    \"is_master\": true,\n    \"job_name\": \"sagemaker-scikit-learn-2021-05-05-14-58-48-502\",\n    \"log_level\": 20,\n    \"master_hostname\": \"algo-1\",\n    \"model_dir\": \"/opt/ml/model\",\n    \"module_dir\": \"s3://sagemaker-us-east-1-035818970945/sagemaker-scikit-learn-2021-05-05-14-58-48-502/source/sourcedir.tar.gz\",\n    \"module_name\": \"GENIE3-sagemaker\",\n    \"network_interface_name\": \"eth0\",\n    \"num_cpus\": 4,\n    \"num_gpus\": 0,\n    \"output_data_dir\": \"/opt/ml/output/data\",\n    \"output_dir\": \"/opt/ml/output\",\n    \"output_intermediate_dir\": \"/opt/ml/output/intermediate\",\n    \"resource_config\": {\n        \"current_host\": \"algo-1\",\n        \"hosts\": [\n            \"algo-1\"\n        ],\n        \"network_interface_name\": \"eth0\"\n    },\n    \"user_entry_point\": \"GENIE3-sagemaker.py\"\u001b[0m\n\u001b[34m}\n\u001b[0m\n\u001b[34mEnvironment variables:\n\u001b[0m\n\u001b[34mSM_HOSTS=[\"algo-1\"]\u001b[0m\n\u001b[34mSM_NETWORK_INTERFACE_NAME=eth0\u001b[0m\n\u001b[34mSM_HPS={\"start_idx\":0,\"stop_idx\":10}\u001b[0m\n\u001b[34mSM_USER_ENTRY_POINT=GENIE3-sagemaker.py\u001b[0m\n\u001b[34mSM_FRAMEWORK_PARAMS={}\u001b[0m\n\u001b[34mSM_RESOURCE_CONFIG={\"current_host\":\"algo-1\",\"hosts\":[\"algo-1\"],\"network_interface_name\":\"eth0\"}\u001b[0m\n\u001b[34mSM_INPUT_DATA_CONFIG={\"train\":{\"RecordWrapperType\":\"None\",\"S3DistributionType\":\"FullyReplicated\",\"TrainingInputMode\":\"File\"}}\u001b[0m\n\u001b[34mSM_OUTPUT_DATA_DIR=/opt/ml/output/data\u001b[0m\n\u001b[34mSM_CHANNELS=[\"train\"]\u001b[0m\n\u001b[34mSM_CURRENT_HOST=algo-1\u001b[0m\n\u001b[34mSM_MODULE_NAME=GENIE3-sagemaker\u001b[0m\n\u001b[34mSM_LOG_LEVEL=20\u001b[0m\n\u001b[34mSM_FRAMEWORK_MODULE=sagemaker_sklearn_container.training:main\u001b[0m\n\u001b[34mSM_INPUT_DIR=/opt/ml/input\u001b[0m\n\u001b[34mSM_INPUT_CONFIG_DIR=/opt/ml/input/config\u001b[0m\n\u001b[34mSM_OUTPUT_DIR=/opt/ml/output\u001b[0m\n\u001b[34mSM_NUM_CPUS=4\u001b[0m\n\u001b[34mSM_NUM_GPUS=0\u001b[0m\n\u001b[34mSM_MODEL_DIR=/opt/ml/model\u001b[0m\n\u001b[34mSM_MODULE_DIR=s3://sagemaker-us-east-1-035818970945/sagemaker-scikit-learn-2021-05-05-14-58-48-502/source/sourcedir.tar.gz\u001b[0m\n\u001b[34mSM_TRAINING_ENV={\"additional_framework_parameters\":{},\"channel_input_dirs\":{\"train\":\"/opt/ml/input/data/train\"},\"current_host\":\"algo-1\",\"framework_module\":\"sagemaker_sklearn_container.training:main\",\"hosts\":[\"algo-1\"],\"hyperparameters\":{\"start_idx\":0,\"stop_idx\":10},\"input_config_dir\":\"/opt/ml/input/config\",\"input_data_config\":{\"train\":{\"RecordWrapperType\":\"None\",\"S3DistributionType\":\"FullyReplicated\",\"TrainingInputMode\":\"File\"}},\"input_dir\":\"/opt/ml/input\",\"is_master\":true,\"job_name\":\"sagemaker-scikit-learn-2021-05-05-14-58-48-502\",\"log_level\":20,\"master_hostname\":\"algo-1\",\"model_dir\":\"/opt/ml/model\",\"module_dir\":\"s3://sagemaker-us-east-1-035818970945/sagemaker-scikit-learn-2021-05-05-14-58-48-502/source/sourcedir.tar.gz\",\"module_name\":\"GENIE3-sagemaker\",\"network_interface_name\":\"eth0\",\"num_cpus\":4,\"num_gpus\":0,\"output_data_dir\":\"/opt/ml/output/data\",\"output_dir\":\"/opt/ml/output\",\"output_intermediate_dir\":\"/opt/ml/output/intermediate\",\"resource_config\":{\"current_host\":\"algo-1\",\"hosts\":[\"algo-1\"],\"network_interface_name\":\"eth0\"},\"user_entry_point\":\"GENIE3-sagemaker.py\"}\u001b[0m\n\u001b[34mSM_USER_ARGS=[\"--start_idx\",\"0\",\"--stop_idx\",\"10\"]\u001b[0m\n\u001b[34mSM_OUTPUT_INTERMEDIATE_DIR=/opt/ml/output/intermediate\u001b[0m\n\u001b[34mSM_CHANNEL_TRAIN=/opt/ml/input/data/train\u001b[0m\n\u001b[34mSM_HP_START_IDX=0\u001b[0m\n\u001b[34mSM_HP_STOP_IDX=10\u001b[0m\n\u001b[34mPYTHONPATH=/opt/ml/code:/miniconda3/bin:/miniconda3/lib/python37.zip:/miniconda3/lib/python3.7:/miniconda3/lib/python3.7/lib-dynload:/miniconda3/lib/python3.7/site-packages\n\u001b[0m\n\u001b[34mInvoking script with the following command:\n\u001b[0m\n\u001b[34m/miniconda3/bin/python GENIE3-sagemaker.py --start_idx 0 --stop_idx 10\n\n\u001b[0m\n\u001b[34m/miniconda3/lib/python3.7/site-packages/sklearn/externals/joblib/externals/cloudpickle/cloudpickle.py:47: DeprecationWarning: the imp module is deprecated in favour of importlib; see the module's documentation for alternative uses\n  import imp\u001b[0m\n\u001b[34m/miniconda3/lib/python3.7/site-packages/sklearn/ensemble/gradient_boosting.py:34: DeprecationWarning: `np.bool` is a deprecated alias for the builtin `bool`. To silence this warning, use `bool` by itself. Doing this will not modify any behavior and is safe. If you specifically wanted the numpy scalar type, use `np.bool_` here.\u001b[0m\n\u001b[34mDeprecated in NumPy 1.20; for more details and guidance: https://numpy.org/devdocs/release/1.20.0-notes.html#deprecations\n  from ._gradient_boosting import predict_stages\u001b[0m\n\u001b[34m/miniconda3/lib/python3.7/site-packages/sklearn/ensemble/gradient_boosting.py:34: DeprecationWarning: `np.bool` is a deprecated alias for the builtin `bool`. To silence this warning, use `bool` by itself. Doing this will not modify any behavior and is safe. If you specifically wanted the numpy scalar type, use `np.bool_` here.\u001b[0m\n\u001b[34mDeprecated in NumPy 1.20; for more details and guidance: https://numpy.org/devdocs/release/1.20.0-notes.html#deprecations\n  from ._gradient_boosting import predict_stages\u001b[0m\n\u001b[34mTraceback (most recent call last):\n  File \"GENIE3-sagemaker.py\", line 11, in <module>\n    import sagemaker\u001b[0m\n\u001b[34mModuleNotFoundError: No module named 'sagemaker'\u001b[0m\n\u001b[34m2021-05-05 15:02:20,434 sagemaker-containers ERROR    Reporting training FAILURE\u001b[0m\n\u001b[34m2021-05-05 15:02:20,434 sagemaker-containers ERROR    framework error: \u001b[0m\n\u001b[34mTraceback (most recent call last):\n  File \"/miniconda3/lib/python3.7/site-packages/sagemaker_containers/_trainer.py\", line 84, in train\n    entrypoint()\n  File \"/miniconda3/lib/python3.7/site-packages/sagemaker_sklearn_container/training.py\", line 39, in main\n    train(environment.Environment())\n  File \"/miniconda3/lib/python3.7/site-packages/sagemaker_sklearn_container/training.py\", line 35, in train\n    runner_type=runner.ProcessRunnerType)\n  File \"/miniconda3/lib/python3.7/site-packages/sagemaker_training/entry_point.py\", line 100, in run\n    wait, capture_error\n  File \"/miniconda3/lib/python3.7/site-packages/sagemaker_training/process.py\", line 164, in run\n    cwd=environment.code_dir,\n  File \"/miniconda3/lib/python3.7/site-packages/sagemaker_training/process.py\", line 84, in check_error\n    raise error_class(return_code=return_code, cmd=\" \".join(cmd), output=stderr)\u001b[0m\n\u001b[34msagemaker_training.errors.ExecuteUserScriptError: ExecuteUserScriptError:\u001b[0m\n\u001b[34mCommand \"/miniconda3/bin/python GENIE3-sagemaker.py --start_idx 0 --stop_idx 10\"\n\u001b[0m\n\u001b[34mExecuteUserScriptError:\u001b[0m\n\u001b[34mCommand \"/miniconda3/bin/python GENIE3-sagemaker.py --start_idx 0 --stop_idx 10\"\u001b[0m\n\n2021-05-05 15:02:34 Uploading - Uploading generated training model\n2021-05-05 15:02:34 Failed - Training job failed\nProfilerReport-1620226728: Stopping\n"
        },
        {
          "ename": "UnexpectedStatusException",
          "evalue": "Error for Training job sagemaker-scikit-learn-2021-05-05-14-58-48-502: Failed. Reason: AlgorithmError: framework error: \nTraceback (most recent call last):\n  File \"/miniconda3/lib/python3.7/site-packages/sagemaker_containers/_trainer.py\", line 84, in train\n    entrypoint()\n  File \"/miniconda3/lib/python3.7/site-packages/sagemaker_sklearn_container/training.py\", line 39, in main\n    train(environment.Environment())\n  File \"/miniconda3/lib/python3.7/site-packages/sagemaker_sklearn_container/training.py\", line 35, in train\n    runner_type=runner.ProcessRunnerType)\n  File \"/miniconda3/lib/python3.7/site-packages/sagemaker_training/entry_point.py\", line 100, in run\n    wait, capture_error\n  File \"/miniconda3/lib/python3.7/site-packages/sagemaker_training/process.py\", line 164, in run\n    cwd=environment.code_dir,\n  File \"/miniconda3/lib/python3.7/site-packages/sagemaker_training/process.py\", line 84, in check_error\n    raise error_class(return_code=return_code, cmd=\" \".join(cmd), output=stderr)\nsagemaker_training.errors.ExecuteUserScriptError: ExecuteUserScriptError:\nCommand \"/miniconda3/bin/python ",
          "output_type": "error",
          "traceback": [
            "\u001b[0;31m---------------------------------------------------------------------------\u001b[0m",
            "\u001b[0;31mUnexpectedStatusException\u001b[0m                 Traceback (most recent call last)",
            "\u001b[0;32m<ipython-input-11-693086fec06d>\u001b[0m in \u001b[0;36m<module>\u001b[0;34m\u001b[0m\n\u001b[1;32m      4\u001b[0m                             \u001b[0mframework_version\u001b[0m\u001b[0;34m=\u001b[0m\u001b[0;34m'0.20.0'\u001b[0m\u001b[0;34m,\u001b[0m\u001b[0;34m\u001b[0m\u001b[0;34m\u001b[0m\u001b[0m\n\u001b[1;32m      5\u001b[0m                             hyperparameters = {'start_idx': 0, 'stop_idx': 10})\n\u001b[0;32m----> 6\u001b[0;31m \u001b[0msklearn_estimator\u001b[0m\u001b[0;34m.\u001b[0m\u001b[0mfit\u001b[0m\u001b[0;34m(\u001b[0m\u001b[0;34m{\u001b[0m\u001b[0;34m'train'\u001b[0m\u001b[0;34m:\u001b[0m \u001b[0mhealthy_uri\u001b[0m\u001b[0;34m}\u001b[0m\u001b[0;34m)\u001b[0m\u001b[0;34m\u001b[0m\u001b[0;34m\u001b[0m\u001b[0m\n\u001b[0m",
            "\u001b[0;32m~/anaconda3/envs/python3/lib/python3.6/site-packages/sagemaker/estimator.py\u001b[0m in \u001b[0;36mfit\u001b[0;34m(self, inputs, wait, logs, job_name, experiment_config)\u001b[0m\n\u001b[1;32m    670\u001b[0m         \u001b[0mself\u001b[0m\u001b[0;34m.\u001b[0m\u001b[0mjobs\u001b[0m\u001b[0;34m.\u001b[0m\u001b[0mappend\u001b[0m\u001b[0;34m(\u001b[0m\u001b[0mself\u001b[0m\u001b[0;34m.\u001b[0m\u001b[0mlatest_training_job\u001b[0m\u001b[0;34m)\u001b[0m\u001b[0;34m\u001b[0m\u001b[0;34m\u001b[0m\u001b[0m\n\u001b[1;32m    671\u001b[0m         \u001b[0;32mif\u001b[0m \u001b[0mwait\u001b[0m\u001b[0;34m:\u001b[0m\u001b[0;34m\u001b[0m\u001b[0;34m\u001b[0m\u001b[0m\n\u001b[0;32m--> 672\u001b[0;31m             \u001b[0mself\u001b[0m\u001b[0;34m.\u001b[0m\u001b[0mlatest_training_job\u001b[0m\u001b[0;34m.\u001b[0m\u001b[0mwait\u001b[0m\u001b[0;34m(\u001b[0m\u001b[0mlogs\u001b[0m\u001b[0;34m=\u001b[0m\u001b[0mlogs\u001b[0m\u001b[0;34m)\u001b[0m\u001b[0;34m\u001b[0m\u001b[0;34m\u001b[0m\u001b[0m\n\u001b[0m\u001b[1;32m    673\u001b[0m \u001b[0;34m\u001b[0m\u001b[0m\n\u001b[1;32m    674\u001b[0m     \u001b[0;32mdef\u001b[0m \u001b[0m_compilation_job_name\u001b[0m\u001b[0;34m(\u001b[0m\u001b[0mself\u001b[0m\u001b[0;34m)\u001b[0m\u001b[0;34m:\u001b[0m\u001b[0;34m\u001b[0m\u001b[0;34m\u001b[0m\u001b[0m\n",
            "\u001b[0;32m~/anaconda3/envs/python3/lib/python3.6/site-packages/sagemaker/estimator.py\u001b[0m in \u001b[0;36mwait\u001b[0;34m(self, logs)\u001b[0m\n\u001b[1;32m   1601\u001b[0m         \u001b[0;31m# If logs are requested, call logs_for_jobs.\u001b[0m\u001b[0;34m\u001b[0m\u001b[0;34m\u001b[0m\u001b[0;34m\u001b[0m\u001b[0m\n\u001b[1;32m   1602\u001b[0m         \u001b[0;32mif\u001b[0m \u001b[0mlogs\u001b[0m \u001b[0;34m!=\u001b[0m \u001b[0;34m\"None\"\u001b[0m\u001b[0;34m:\u001b[0m\u001b[0;34m\u001b[0m\u001b[0;34m\u001b[0m\u001b[0m\n\u001b[0;32m-> 1603\u001b[0;31m             \u001b[0mself\u001b[0m\u001b[0;34m.\u001b[0m\u001b[0msagemaker_session\u001b[0m\u001b[0;34m.\u001b[0m\u001b[0mlogs_for_job\u001b[0m\u001b[0;34m(\u001b[0m\u001b[0mself\u001b[0m\u001b[0;34m.\u001b[0m\u001b[0mjob_name\u001b[0m\u001b[0;34m,\u001b[0m \u001b[0mwait\u001b[0m\u001b[0;34m=\u001b[0m\u001b[0;32mTrue\u001b[0m\u001b[0;34m,\u001b[0m \u001b[0mlog_type\u001b[0m\u001b[0;34m=\u001b[0m\u001b[0mlogs\u001b[0m\u001b[0;34m)\u001b[0m\u001b[0;34m\u001b[0m\u001b[0;34m\u001b[0m\u001b[0m\n\u001b[0m\u001b[1;32m   1604\u001b[0m         \u001b[0;32melse\u001b[0m\u001b[0;34m:\u001b[0m\u001b[0;34m\u001b[0m\u001b[0;34m\u001b[0m\u001b[0m\n\u001b[1;32m   1605\u001b[0m             \u001b[0mself\u001b[0m\u001b[0;34m.\u001b[0m\u001b[0msagemaker_session\u001b[0m\u001b[0;34m.\u001b[0m\u001b[0mwait_for_job\u001b[0m\u001b[0;34m(\u001b[0m\u001b[0mself\u001b[0m\u001b[0;34m.\u001b[0m\u001b[0mjob_name\u001b[0m\u001b[0;34m)\u001b[0m\u001b[0;34m\u001b[0m\u001b[0;34m\u001b[0m\u001b[0m\n",
            "\u001b[0;32m~/anaconda3/envs/python3/lib/python3.6/site-packages/sagemaker/session.py\u001b[0m in \u001b[0;36mlogs_for_job\u001b[0;34m(self, job_name, wait, poll, log_type)\u001b[0m\n\u001b[1;32m   3659\u001b[0m \u001b[0;34m\u001b[0m\u001b[0m\n\u001b[1;32m   3660\u001b[0m         \u001b[0;32mif\u001b[0m \u001b[0mwait\u001b[0m\u001b[0;34m:\u001b[0m\u001b[0;34m\u001b[0m\u001b[0;34m\u001b[0m\u001b[0m\n\u001b[0;32m-> 3661\u001b[0;31m             \u001b[0mself\u001b[0m\u001b[0;34m.\u001b[0m\u001b[0m_check_job_status\u001b[0m\u001b[0;34m(\u001b[0m\u001b[0mjob_name\u001b[0m\u001b[0;34m,\u001b[0m \u001b[0mdescription\u001b[0m\u001b[0;34m,\u001b[0m \u001b[0;34m\"TrainingJobStatus\"\u001b[0m\u001b[0;34m)\u001b[0m\u001b[0;34m\u001b[0m\u001b[0;34m\u001b[0m\u001b[0m\n\u001b[0m\u001b[1;32m   3662\u001b[0m             \u001b[0;32mif\u001b[0m \u001b[0mdot\u001b[0m\u001b[0;34m:\u001b[0m\u001b[0;34m\u001b[0m\u001b[0;34m\u001b[0m\u001b[0m\n\u001b[1;32m   3663\u001b[0m                 \u001b[0mprint\u001b[0m\u001b[0;34m(\u001b[0m\u001b[0;34m)\u001b[0m\u001b[0;34m\u001b[0m\u001b[0;34m\u001b[0m\u001b[0m\n",
            "\u001b[0;32m~/anaconda3/envs/python3/lib/python3.6/site-packages/sagemaker/session.py\u001b[0m in \u001b[0;36m_check_job_status\u001b[0;34m(self, job, desc, status_key_name)\u001b[0m\n\u001b[1;32m   3231\u001b[0m                 ),\n\u001b[1;32m   3232\u001b[0m                 \u001b[0mallowed_statuses\u001b[0m\u001b[0;34m=\u001b[0m\u001b[0;34m[\u001b[0m\u001b[0;34m\"Completed\"\u001b[0m\u001b[0;34m,\u001b[0m \u001b[0;34m\"Stopped\"\u001b[0m\u001b[0;34m]\u001b[0m\u001b[0;34m,\u001b[0m\u001b[0;34m\u001b[0m\u001b[0;34m\u001b[0m\u001b[0m\n\u001b[0;32m-> 3233\u001b[0;31m                 \u001b[0mactual_status\u001b[0m\u001b[0;34m=\u001b[0m\u001b[0mstatus\u001b[0m\u001b[0;34m,\u001b[0m\u001b[0;34m\u001b[0m\u001b[0;34m\u001b[0m\u001b[0m\n\u001b[0m\u001b[1;32m   3234\u001b[0m             )\n\u001b[1;32m   3235\u001b[0m \u001b[0;34m\u001b[0m\u001b[0m\n",
            "\u001b[0;31mUnexpectedStatusException\u001b[0m: Error for Training job sagemaker-scikit-learn-2021-05-05-14-58-48-502: Failed. Reason: AlgorithmError: framework error: \nTraceback (most recent call last):\n  File \"/miniconda3/lib/python3.7/site-packages/sagemaker_containers/_trainer.py\", line 84, in train\n    entrypoint()\n  File \"/miniconda3/lib/python3.7/site-packages/sagemaker_sklearn_container/training.py\", line 39, in main\n    train(environment.Environment())\n  File \"/miniconda3/lib/python3.7/site-packages/sagemaker_sklearn_container/training.py\", line 35, in train\n    runner_type=runner.ProcessRunnerType)\n  File \"/miniconda3/lib/python3.7/site-packages/sagemaker_training/entry_point.py\", line 100, in run\n    wait, capture_error\n  File \"/miniconda3/lib/python3.7/site-packages/sagemaker_training/process.py\", line 164, in run\n    cwd=environment.code_dir,\n  File \"/miniconda3/lib/python3.7/site-packages/sagemaker_training/process.py\", line 84, in check_error\n    raise error_class(return_code=return_code, cmd=\" \".join(cmd), output=stderr)\nsagemaker_training.errors.ExecuteUserScriptError: ExecuteUserScriptError:\nCommand \"/miniconda3/bin/python "
          ]
        }
      ]
    },
    {
      "cell_type": "code",
      "metadata": {
        "cell_id": "00002-0647248d-a561-4caa-a568-e8639a085038",
        "tags": [],
        "deepnote_cell_type": "code"
      },
      "source": "",
      "execution_count": null,
      "outputs": []
    },
    {
      "cell_type": "markdown",
      "source": "<a style='text-decoration:none;line-height:16px;display:flex;color:#5B5B62;padding:10px;justify-content:end;' href='https://deepnote.com?utm_source=created-in-deepnote-cell&projectId=a3a1fdb0-4946-49ac-bb9f-c39b38835b36' target=\"_blank\">\n<img alt='Created in deepnote.com' style='display:inline;max-height:16px;margin:0px;margin-right:7.5px;' src='data:image/svg+xml;base64,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' > </img>\nCreated in <span style='font-weight:600;margin-left:4px;'>Deepnote</span></a>",
      "metadata": {
        "tags": [],
        "created_in_deepnote_cell": true,
        "deepnote_cell_type": "markdown"
      }
    }
  ],
  "nbformat": 4,
  "nbformat_minor": 4,
  "metadata": {
    "deepnote": {
      "is_reactive": false
    },
    "deepnote_execution_queue": [],
    "deepnote_notebook_id": "d1bb6c76-f30d-40a0-89a7-d757ade33017",
    "kernelspec": {
      "display_name": "conda_python3",
      "language": "python",
      "name": "conda_python3"
    },
    "language_info": {
      "codemirror_mode": {
        "name": "ipython",
        "version": 3
      },
      "file_extension": ".py",
      "mimetype": "text/x-python",
      "name": "python",
      "nbconvert_exporter": "python",
      "pygments_lexer": "ipython3",
      "version": "3.6.13"
    }
  }
}