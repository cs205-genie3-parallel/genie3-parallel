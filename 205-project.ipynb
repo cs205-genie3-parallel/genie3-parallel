{
  "cells": [
    {
      "cell_type": "code",
      "metadata": {
        "cell_id": "00000-1a46a4e7-4efd-4cc1-8cb2-860e51797e51",
        "deepnote_to_be_reexecuted": false,
        "execution_millis": 2,
        "execution_start": 1620139428930,
        "source_hash": "dd12eb27",
        "tags": [],
        "deepnote_cell_type": "code"
      },
      "source": "# from sklearn.tree.tree import BaseDecisionTree\nfrom sklearn.ensemble import RandomForestRegressor, ExtraTreesRegressor\nimport numpy as np\nfrom numpy import *\nimport time\nfrom operator import itemgetter\nfrom multiprocessing import Pool\nimport os\nimport pandas as pd",
      "execution_count": null,
      "outputs": []
    },
    {
      "cell_type": "code",
      "metadata": {
        "cell_id": "00001-61ef7efc-7739-4760-b6c8-39daf1192af0",
        "deepnote_to_be_reexecuted": false,
        "execution_millis": 1130,
        "execution_start": 1620139399898,
        "source_hash": "cfae35e8",
        "tags": [],
        "deepnote_cell_type": "code"
      },
      "source": "import sagemaker\nimport boto3\nfrom sagemaker.amazon.amazon_estimator import get_image_uri\nfrom sagemaker.session import s3_input, Session",
      "execution_count": null,
      "outputs": []
    },
    {
      "cell_type": "code",
      "metadata": {
        "cell_id": "00002-b85dc1e6-53cd-498e-9e13-59a2ab71927e",
        "deepnote_to_be_reexecuted": false,
        "execution_millis": 815,
        "execution_start": 1620139571765,
        "source_hash": "1e88fb65",
        "tags": [],
        "deepnote_cell_type": "code"
      },
      "source": "my_region = boto3.session.Session().region_name\n\nbucket_name = 'cs205-final'\ns3 = boto3.resource('s3')\n# try:\n#     if  my_region == 'us-east-1':\n#         s3.create_bucket(Bucket=bucket_name)\n#     else: \n#         s3.create_bucket(Bucket=bucket_name, CreateBucketConfiguration={ 'LocationConstraint': my_region })\n#     print('S3 bucket created successfully')\n# except Exception as e:\n#     print('S3 error: ',e)",
      "execution_count": null,
      "outputs": []
    },
    {
      "cell_type": "code",
      "metadata": {
        "cell_id": "00003-2fcbb70a-949d-4b89-b935-69124b969663",
        "deepnote_to_be_reexecuted": false,
        "execution_millis": 304,
        "execution_start": 1620139575519,
        "source_hash": "7443c4e0",
        "tags": [],
        "deepnote_cell_type": "code"
      },
      "source": "# Loads two datasets\nhealthy_uri = f\"s3://{bucket_name}/healthy.tsv\"\ncancer_uri = f\"s3://{bucket_name}/675_cancer.tsv\"\n\nhealthy_df = pd.read_csv(healthy_uri, sep='\\t')\ncancer_df = pd.read_csv(cancer_uri, sep='\\t')\n\n# boto3.Session().resource('s3').Bucket(bucket_name).Object(os.path.join(prefix, 'healthy.tsv')).upload_file('healthy.tsv')\n# healthy_data = sagemaker.inputs.TrainingInput(s3_data='s3://{}'.format(bucket_name), content_type='tsv')\n\n# boto3.Session().resource('s3').Bucket(bucket_name).Object(os.path.join(prefix, '675_cancer.tsv')).upload_file('675_cancer.tsv')\n# cancer_data = sagemaker.inputs.TrainingInput(s3_data='s3://{}'.format(bucket_name), content_type='tsv')",
      "execution_count": null,
      "outputs": []
    },
    {
      "cell_type": "code",
      "metadata": {
        "cell_id": "00004-af8a8c36-e98b-468f-aa70-b9f7f2094b9d",
        "deepnote_cell_type": "code"
      },
      "source": "s3_intermediate = f\"s3://{bucket_name}/intermediate/\"",
      "execution_count": null,
      "outputs": []
    },
    {
      "cell_type": "code",
      "metadata": {
        "cell_id": "00005-4680e25d-230a-4bf9-9c1b-bab308a24d51",
        "deepnote_cell_type": "code"
      },
      "source": "healthy_df.shape",
      "execution_count": null,
      "outputs": [
        {
          "data": {
            "text/plain": "(49196, 193)"
          },
          "execution_count": 11,
          "metadata": {},
          "output_type": "execute_result"
        }
      ]
    },
    {
      "cell_type": "code",
      "metadata": {
        "cell_id": "00006-7d6ada94-d077-4d55-8017-a7a06c71d39e",
        "deepnote_cell_type": "code"
      },
      "source": "healthy_df.head()",
      "execution_count": null,
      "outputs": [
        {
          "data": {
            "text/html": "<div>\n<style scoped>\n    .dataframe tbody tr th:only-of-type {\n        vertical-align: middle;\n    }\n\n    .dataframe tbody tr th {\n        vertical-align: top;\n    }\n\n    .dataframe thead th {\n        text-align: right;\n    }\n</style>\n<table border=\"1\" class=\"dataframe\">\n  <thead>\n    <tr style=\"text-align: right;\">\n      <th></th>\n      <th>Gene ID</th>\n      <th>Gene Name</th>\n      <th>HPSI0213i-koun_2, skin</th>\n      <th>HPSI0213i-nawk_55, skin</th>\n      <th>HPSI0313i-airc_2, skin</th>\n      <th>HPSI0313i-airc_66, skin</th>\n      <th>HPSI0313i-cesj_1, skin</th>\n      <th>HPSI0413i-corn_1, skin</th>\n      <th>HPSI0413i-coxy_3, skin</th>\n      <th>HPSI0413i-coxy_33, skin</th>\n      <th>...</th>\n      <th>HPSI0913i-ruql_3, skin</th>\n      <th>HPSI0913i-vopm_2, skin</th>\n      <th>HPSI0913pf-ffdl, skin</th>\n      <th>HPSI1113i-fumb_2, skin</th>\n      <th>HPSI1113i-nibo_2, skin</th>\n      <th>HPSI1113i-nibo_3, skin</th>\n      <th>HPSI1113i-zuta_1, skin</th>\n      <th>HPSI1113i-zuta_3, skin</th>\n      <th>HPSI1114i-qibk_2, skin</th>\n      <th>HPSI1213i-foqj_2, skin</th>\n    </tr>\n  </thead>\n  <tbody>\n    <tr>\n      <th>0</th>\n      <td>ENSG00000000003</td>\n      <td>TSPAN6</td>\n      <td>44.0</td>\n      <td>113.0</td>\n      <td>68.0</td>\n      <td>153.0</td>\n      <td>104.0</td>\n      <td>83.0</td>\n      <td>96.0</td>\n      <td>117.0</td>\n      <td>...</td>\n      <td>117.0</td>\n      <td>138.0</td>\n      <td>31.0</td>\n      <td>94.0</td>\n      <td>189.0</td>\n      <td>131.0</td>\n      <td>118.0</td>\n      <td>80.0</td>\n      <td>83.0</td>\n      <td>111.0</td>\n    </tr>\n    <tr>\n      <th>1</th>\n      <td>ENSG00000000005</td>\n      <td>TNMD</td>\n      <td>0.9</td>\n      <td>2.0</td>\n      <td>4.0</td>\n      <td>6.0</td>\n      <td>5.0</td>\n      <td>0.7</td>\n      <td>7.0</td>\n      <td>5.0</td>\n      <td>...</td>\n      <td>5.0</td>\n      <td>13.0</td>\n      <td>NaN</td>\n      <td>10.0</td>\n      <td>21.0</td>\n      <td>3.0</td>\n      <td>8.0</td>\n      <td>5.0</td>\n      <td>5.0</td>\n      <td>15.0</td>\n    </tr>\n    <tr>\n      <th>2</th>\n      <td>ENSG00000000419</td>\n      <td>DPM1</td>\n      <td>117.0</td>\n      <td>191.0</td>\n      <td>126.0</td>\n      <td>259.0</td>\n      <td>262.0</td>\n      <td>225.0</td>\n      <td>272.0</td>\n      <td>241.0</td>\n      <td>...</td>\n      <td>276.0</td>\n      <td>194.0</td>\n      <td>195.0</td>\n      <td>205.0</td>\n      <td>279.0</td>\n      <td>226.0</td>\n      <td>227.0</td>\n      <td>168.0</td>\n      <td>287.0</td>\n      <td>254.0</td>\n    </tr>\n    <tr>\n      <th>3</th>\n      <td>ENSG00000000457</td>\n      <td>SCYL3</td>\n      <td>4.0</td>\n      <td>6.0</td>\n      <td>4.0</td>\n      <td>9.0</td>\n      <td>8.0</td>\n      <td>5.0</td>\n      <td>4.0</td>\n      <td>6.0</td>\n      <td>...</td>\n      <td>5.0</td>\n      <td>4.0</td>\n      <td>5.0</td>\n      <td>8.0</td>\n      <td>7.0</td>\n      <td>7.0</td>\n      <td>7.0</td>\n      <td>6.0</td>\n      <td>6.0</td>\n      <td>5.0</td>\n    </tr>\n    <tr>\n      <th>4</th>\n      <td>ENSG00000000460</td>\n      <td>C1orf112</td>\n      <td>8.0</td>\n      <td>23.0</td>\n      <td>10.0</td>\n      <td>31.0</td>\n      <td>18.0</td>\n      <td>14.0</td>\n      <td>11.0</td>\n      <td>20.0</td>\n      <td>...</td>\n      <td>24.0</td>\n      <td>12.0</td>\n      <td>3.0</td>\n      <td>12.0</td>\n      <td>18.0</td>\n      <td>16.0</td>\n      <td>22.0</td>\n      <td>19.0</td>\n      <td>19.0</td>\n      <td>18.0</td>\n    </tr>\n  </tbody>\n</table>\n<p>5 rows × 193 columns</p>\n</div>",
            "text/plain": "           Gene ID Gene Name  HPSI0213i-koun_2, skin  HPSI0213i-nawk_55, skin  \\\n0  ENSG00000000003    TSPAN6                    44.0                    113.0   \n1  ENSG00000000005      TNMD                     0.9                      2.0   \n2  ENSG00000000419      DPM1                   117.0                    191.0   \n3  ENSG00000000457     SCYL3                     4.0                      6.0   \n4  ENSG00000000460  C1orf112                     8.0                     23.0   \n\n   HPSI0313i-airc_2, skin  HPSI0313i-airc_66, skin  HPSI0313i-cesj_1, skin  \\\n0                    68.0                    153.0                   104.0   \n1                     4.0                      6.0                     5.0   \n2                   126.0                    259.0                   262.0   \n3                     4.0                      9.0                     8.0   \n4                    10.0                     31.0                    18.0   \n\n   HPSI0413i-corn_1, skin  HPSI0413i-coxy_3, skin  HPSI0413i-coxy_33, skin  \\\n0                    83.0                    96.0                    117.0   \n1                     0.7                     7.0                      5.0   \n2                   225.0                   272.0                    241.0   \n3                     5.0                     4.0                      6.0   \n4                    14.0                    11.0                     20.0   \n\n   ...  HPSI0913i-ruql_3, skin  HPSI0913i-vopm_2, skin  HPSI0913pf-ffdl, skin  \\\n0  ...                   117.0                   138.0                   31.0   \n1  ...                     5.0                    13.0                    NaN   \n2  ...                   276.0                   194.0                  195.0   \n3  ...                     5.0                     4.0                    5.0   \n4  ...                    24.0                    12.0                    3.0   \n\n   HPSI1113i-fumb_2, skin  HPSI1113i-nibo_2, skin  HPSI1113i-nibo_3, skin  \\\n0                    94.0                   189.0                   131.0   \n1                    10.0                    21.0                     3.0   \n2                   205.0                   279.0                   226.0   \n3                     8.0                     7.0                     7.0   \n4                    12.0                    18.0                    16.0   \n\n   HPSI1113i-zuta_1, skin  HPSI1113i-zuta_3, skin  HPSI1114i-qibk_2, skin  \\\n0                   118.0                    80.0                    83.0   \n1                     8.0                     5.0                     5.0   \n2                   227.0                   168.0                   287.0   \n3                     7.0                     6.0                     6.0   \n4                    22.0                    19.0                    19.0   \n\n   HPSI1213i-foqj_2, skin  \n0                   111.0  \n1                    15.0  \n2                   254.0  \n3                     5.0  \n4                    18.0  \n\n[5 rows x 193 columns]"
          },
          "execution_count": 22,
          "metadata": {},
          "output_type": "execute_result"
        }
      ]
    },
    {
      "cell_type": "code",
      "metadata": {
        "cell_id": "00007-36d05241-cfcb-4c5e-b34e-e2dceb09a7d8",
        "deepnote_cell_type": "code"
      },
      "source": "healthy_genes = healthy_df['Gene Name']",
      "execution_count": null,
      "outputs": []
    },
    {
      "cell_type": "code",
      "metadata": {
        "cell_id": "00008-d9acf171-001b-4201-bd82-98fcc0badc10",
        "deepnote_cell_type": "code"
      },
      "source": "healthy = healthy_df.drop(['Gene ID'], axis=1)",
      "execution_count": null,
      "outputs": []
    },
    {
      "cell_type": "code",
      "metadata": {
        "cell_id": "00009-333b6006-a484-4165-9c50-6ff36e2be920",
        "deepnote_cell_type": "code"
      },
      "source": "healthy = healthy.set_index('Gene Name', drop=True)",
      "execution_count": null,
      "outputs": []
    },
    {
      "cell_type": "code",
      "metadata": {
        "cell_id": "00010-a63a2c6c-5b14-42af-ad78-e9726fc7e36e",
        "deepnote_cell_type": "code"
      },
      "source": "healthy_T = healthy.T",
      "execution_count": null,
      "outputs": []
    },
    {
      "cell_type": "code",
      "metadata": {
        "cell_id": "00011-c02a6ba9-aeb0-4e42-b59d-08af45f24e18",
        "deepnote_cell_type": "code"
      },
      "source": "healthy_T.head()",
      "execution_count": null,
      "outputs": [
        {
          "data": {
            "text/html": "<div>\n<style scoped>\n    .dataframe tbody tr th:only-of-type {\n        vertical-align: middle;\n    }\n\n    .dataframe tbody tr th {\n        vertical-align: top;\n    }\n\n    .dataframe thead th {\n        text-align: right;\n    }\n</style>\n<table border=\"1\" class=\"dataframe\">\n  <thead>\n    <tr style=\"text-align: right;\">\n      <th>Gene Name</th>\n      <th>TSPAN6</th>\n      <th>TNMD</th>\n      <th>DPM1</th>\n      <th>SCYL3</th>\n      <th>C1orf112</th>\n      <th>FGR</th>\n      <th>CFH</th>\n      <th>FUCA2</th>\n      <th>GCLC</th>\n      <th>NFYA</th>\n      <th>...</th>\n      <th>AC012213.5</th>\n      <th>AC009301.1</th>\n      <th>LINC02689</th>\n      <th>AL157886.1</th>\n      <th>H2AQ1P</th>\n      <th>AL589743.8</th>\n      <th>AL355312.6</th>\n      <th>AC120036.5</th>\n      <th>AC018931.1</th>\n      <th>AL731559.1</th>\n    </tr>\n  </thead>\n  <tbody>\n    <tr>\n      <th>HPSI0213i-koun_2, skin</th>\n      <td>44.0</td>\n      <td>0.9</td>\n      <td>117.0</td>\n      <td>4.0</td>\n      <td>8.0</td>\n      <td>0.9</td>\n      <td>NaN</td>\n      <td>51.0</td>\n      <td>10.0</td>\n      <td>47.0</td>\n      <td>...</td>\n      <td>NaN</td>\n      <td>NaN</td>\n      <td>NaN</td>\n      <td>NaN</td>\n      <td>NaN</td>\n      <td>NaN</td>\n      <td>0.1</td>\n      <td>NaN</td>\n      <td>NaN</td>\n      <td>0.1</td>\n    </tr>\n    <tr>\n      <th>HPSI0213i-nawk_55, skin</th>\n      <td>113.0</td>\n      <td>2.0</td>\n      <td>191.0</td>\n      <td>6.0</td>\n      <td>23.0</td>\n      <td>0.2</td>\n      <td>NaN</td>\n      <td>100.0</td>\n      <td>30.0</td>\n      <td>77.0</td>\n      <td>...</td>\n      <td>0.2</td>\n      <td>NaN</td>\n      <td>0.1</td>\n      <td>NaN</td>\n      <td>0.6</td>\n      <td>NaN</td>\n      <td>NaN</td>\n      <td>NaN</td>\n      <td>NaN</td>\n      <td>0.1</td>\n    </tr>\n    <tr>\n      <th>HPSI0313i-airc_2, skin</th>\n      <td>68.0</td>\n      <td>4.0</td>\n      <td>126.0</td>\n      <td>4.0</td>\n      <td>10.0</td>\n      <td>0.8</td>\n      <td>NaN</td>\n      <td>78.0</td>\n      <td>16.0</td>\n      <td>46.0</td>\n      <td>...</td>\n      <td>NaN</td>\n      <td>0.2</td>\n      <td>NaN</td>\n      <td>NaN</td>\n      <td>NaN</td>\n      <td>0.2</td>\n      <td>0.1</td>\n      <td>NaN</td>\n      <td>NaN</td>\n      <td>0.1</td>\n    </tr>\n    <tr>\n      <th>HPSI0313i-airc_66, skin</th>\n      <td>153.0</td>\n      <td>6.0</td>\n      <td>259.0</td>\n      <td>9.0</td>\n      <td>31.0</td>\n      <td>0.3</td>\n      <td>NaN</td>\n      <td>109.0</td>\n      <td>33.0</td>\n      <td>84.0</td>\n      <td>...</td>\n      <td>NaN</td>\n      <td>NaN</td>\n      <td>NaN</td>\n      <td>NaN</td>\n      <td>NaN</td>\n      <td>NaN</td>\n      <td>NaN</td>\n      <td>NaN</td>\n      <td>NaN</td>\n      <td>NaN</td>\n    </tr>\n    <tr>\n      <th>HPSI0313i-cesj_1, skin</th>\n      <td>104.0</td>\n      <td>5.0</td>\n      <td>262.0</td>\n      <td>8.0</td>\n      <td>18.0</td>\n      <td>0.2</td>\n      <td>NaN</td>\n      <td>117.0</td>\n      <td>39.0</td>\n      <td>62.0</td>\n      <td>...</td>\n      <td>0.1</td>\n      <td>NaN</td>\n      <td>NaN</td>\n      <td>NaN</td>\n      <td>NaN</td>\n      <td>NaN</td>\n      <td>NaN</td>\n      <td>0.2</td>\n      <td>NaN</td>\n      <td>0.1</td>\n    </tr>\n  </tbody>\n</table>\n<p>5 rows × 49196 columns</p>\n</div>",
            "text/plain": "Gene Name                TSPAN6  TNMD   DPM1  SCYL3  C1orf112  FGR  CFH  \\\nHPSI0213i-koun_2, skin     44.0   0.9  117.0    4.0       8.0  0.9  NaN   \nHPSI0213i-nawk_55, skin   113.0   2.0  191.0    6.0      23.0  0.2  NaN   \nHPSI0313i-airc_2, skin     68.0   4.0  126.0    4.0      10.0  0.8  NaN   \nHPSI0313i-airc_66, skin   153.0   6.0  259.0    9.0      31.0  0.3  NaN   \nHPSI0313i-cesj_1, skin    104.0   5.0  262.0    8.0      18.0  0.2  NaN   \n\nGene Name                FUCA2  GCLC  NFYA  ...  AC012213.5  AC009301.1  \\\nHPSI0213i-koun_2, skin    51.0  10.0  47.0  ...         NaN         NaN   \nHPSI0213i-nawk_55, skin  100.0  30.0  77.0  ...         0.2         NaN   \nHPSI0313i-airc_2, skin    78.0  16.0  46.0  ...         NaN         0.2   \nHPSI0313i-airc_66, skin  109.0  33.0  84.0  ...         NaN         NaN   \nHPSI0313i-cesj_1, skin   117.0  39.0  62.0  ...         0.1         NaN   \n\nGene Name                LINC02689  AL157886.1  H2AQ1P  AL589743.8  \\\nHPSI0213i-koun_2, skin         NaN         NaN     NaN         NaN   \nHPSI0213i-nawk_55, skin        0.1         NaN     0.6         NaN   \nHPSI0313i-airc_2, skin         NaN         NaN     NaN         0.2   \nHPSI0313i-airc_66, skin        NaN         NaN     NaN         NaN   \nHPSI0313i-cesj_1, skin         NaN         NaN     NaN         NaN   \n\nGene Name                AL355312.6  AC120036.5  AC018931.1  AL731559.1  \nHPSI0213i-koun_2, skin          0.1         NaN         NaN         0.1  \nHPSI0213i-nawk_55, skin         NaN         NaN         NaN         0.1  \nHPSI0313i-airc_2, skin          0.1         NaN         NaN         0.1  \nHPSI0313i-airc_66, skin         NaN         NaN         NaN         NaN  \nHPSI0313i-cesj_1, skin          NaN         0.2         NaN         0.1  \n\n[5 rows x 49196 columns]"
          },
          "execution_count": 16,
          "metadata": {},
          "output_type": "execute_result"
        }
      ]
    },
    {
      "cell_type": "code",
      "metadata": {
        "cell_id": "00012-5f4b27c3-32c6-4fe0-a600-7e5db8f9b485",
        "deepnote_cell_type": "code"
      },
      "source": "healthy_T = healthy_T.fillna(0)",
      "execution_count": null,
      "outputs": []
    },
    {
      "cell_type": "code",
      "metadata": {
        "cell_id": "00013-e539a224-93f3-4283-becb-59d4e0cff8fa",
        "deepnote_cell_type": "code"
      },
      "source": "healthy_T.shape",
      "execution_count": null,
      "outputs": [
        {
          "data": {
            "text/plain": "(191, 49196)"
          },
          "execution_count": 25,
          "metadata": {},
          "output_type": "execute_result"
        }
      ]
    },
    {
      "cell_type": "code",
      "metadata": {
        "cell_id": "00014-8625ee59-115e-4336-b2ea-f74b988ceeed",
        "deepnote_cell_type": "code"
      },
      "source": "healthy_arr = healthy_T.to_numpy()",
      "execution_count": null,
      "outputs": []
    },
    {
      "cell_type": "code",
      "metadata": {
        "cell_id": "00015-21b2e4ce-e45d-4f67-9207-6e37805845de",
        "deepnote_cell_type": "code"
      },
      "source": "cancer_df.shape",
      "execution_count": null,
      "outputs": [
        {
          "data": {
            "text/plain": "(57711, 624)"
          },
          "execution_count": 20,
          "metadata": {},
          "output_type": "execute_result"
        }
      ]
    },
    {
      "cell_type": "code",
      "metadata": {
        "cell_id": "00016-a9cc590d-4045-4ecf-b71e-e2b9738ea212",
        "deepnote_cell_type": "code"
      },
      "source": "VIM = GENIE3(healthy_arr[:,:5])",
      "execution_count": null,
      "outputs": [
        {
          "name": "stdout",
          "output_type": "stream",
          "text": "Tree method: RF\nK: sqrt\nNumber of trees: 1000\n\n\nrunning single threaded jobs\nGene 1/5...\nGene 2/5...\nGene 3/5...\nGene 4/5...\nGene 5/5...\nElapsed time: 7.40 seconds\n"
        }
      ]
    },
    {
      "cell_type": "code",
      "metadata": {
        "cell_id": "00005-5a61ea08-b041-4e20-8139-3a653d1361b8",
        "tags": [],
        "deepnote_cell_type": "code"
      },
      "source": "get_link_list(VIM, gene_names=list(healthy_genes.values[:5]),file_name='healthy_output_ranking.txt')",
      "execution_count": null,
      "outputs": [
        {
          "name": "stdout",
          "output_type": "stream",
          "text": "nInter = 0\nnInter = 1\nnInter = 2\nnInter = 3\nnInter = 4\nnInter = 5\nnInter = 6\nnInter = 7\nnInter = 8\nnInter = 9\nnInter = 10\nnInter = 11\nnInter = 12\nnInter = 13\nnInter = 14\nnInter = 15\nnInter = 16\nnInter = 17\nnInter = 18\nnInter = 19\n"
        }
      ]
    },
    {
      "cell_type": "code",
      "metadata": {
        "cell_id": "00004-26e1dc4d-a5df-4b5d-a89f-d141ff6e7749",
        "tags": [],
        "deepnote_cell_type": "code"
      },
      "source": "# build and train the model\ncontainer = get_image_uri(boto3.Session().region_name,'xgboost', repo_version='1.0-1')  # loads the xgboost model\n\n# check\n# max_depth = np.sqrt(healthy_data.shape[0])\n\noutput_path = f\"s3://{bucket_name}/output/\"\n\n\nhyperparameters = {'max_depth':7,\n                   'eta':'0.2',\n                   'gamma':'4',\n                   'min_child_weight':'6',\n                   'subsample':'0.7',\n                   'objective':'binary:logistic',\n                   'num_round':50\n                  }\n                  \n# TODO We want shared-memory distribution on a single node for each gene\nestimator = sagemaker.estimator.Estimator(image_uri = container,\n                                         hyperparameters = hyperparameters,\n                                         role = sagemaker.get_execution_role(),\n                                         train_instance_count = 1,\n                                         train_instance_type = 'm1.m5.2xlarge',\n                                         train_volume_size = 5,\n                                         output_path = output_path,\n                                         train_use_spot_instance = True,\n                                         train_max_run = 300,\n                                         train_max_wait = 600)\n# estimator.fit({'train':s3_input_train, 'validation':s3_input_test}) ",
      "execution_count": null,
      "outputs": [
        {
          "name": "stderr",
          "output_type": "stream",
          "text": "The method get_image_uri has been renamed in sagemaker>=2.\nSee: https://sagemaker.readthedocs.io/en/stable/v2.html for details.\ntrain_instance_count has been renamed in sagemaker>=2.\nSee: https://sagemaker.readthedocs.io/en/stable/v2.html for details.\ntrain_instance_type has been renamed in sagemaker>=2.\nSee: https://sagemaker.readthedocs.io/en/stable/v2.html for details.\ntrain_max_run has been renamed in sagemaker>=2.\nSee: https://sagemaker.readthedocs.io/en/stable/v2.html for details.\ntrain_max_wait has been renamed in sagemaker>=2.\nSee: https://sagemaker.readthedocs.io/en/stable/v2.html for details.\ntrain_volume_size has been renamed in sagemaker>=2.\nSee: https://sagemaker.readthedocs.io/en/stable/v2.html for details.\n"
        }
      ]
    },
    {
      "cell_type": "code",
      "metadata": {
        "cell_id": "00005-0bbdbcb1-5d4b-4a36-adfd-960c90d9016a",
        "tags": [],
        "deepnote_cell_type": "code"
      },
      "source": "# deployment\nxgb_predictor = xgb.deploy(initial_instance_count=1,instance_type='ml.m4.xlarge')",
      "execution_count": null,
      "outputs": []
    },
    {
      "cell_type": "code",
      "metadata": {
        "cell_id": "00002-13beed10-905a-4448-8a3b-6b32bcf533bb",
        "tags": [],
        "deepnote_cell_type": "code"
      },
      "source": "def compute_feature_importances(estimator):\n#     if isinstance(estimator, BaseDecisionTree):\n#         return estimator.tree_.compute_feature_importances(normalize=False)\n#     else:\n    importances = [e.tree_.compute_feature_importances(normalize=False)\n                   for e in estimator.estimators_]\n    importances = asarray(importances)\n    # number of samples meeting these conditions / total number of samples\n    return sum(importances,axis=0) / len(estimator)\n\ndef get_link_list(VIM,gene_names=None,regulators='all',maxcount='all',file_name=None):\n\n    \"\"\"Gets the ranked list of (directed) regulatory links.\n\n    Parameters\n    ----------\n\n    VIM: numpy array\n        Array as returned by the function GENIE3(), in which the element (i,j) is the score of the edge directed from the i-th gene to the j-th gene.\n\n    gene_names: list of strings, optional\n        List of length p, where p is the number of rows/columns in VIM, containing the names of the genes. The i-th item of gene_names must correspond to the i-th row/column of VIM. When the gene names are not provided, the i-th gene is named Gi.\n        default: None\n\n    regulators: list of strings, optional\n        List containing the names of the candidate regulators. When a list of regulators is provided, the names of all the genes must be provided (in gene_names), and the returned list contains only edges directed from the candidate regulators. When regulators is set to 'all', any gene can be a candidate regulator.\n        default: 'all'\n\n    maxcount: 'all' or positive integer, optional\n        Writes only the first maxcount regulatory links of the ranked list. When maxcount is set to 'all', all the regulatory links are written.\n        default: 'all'\n\n    file_name: string, optional\n        Writes the ranked list of regulatory links to the file file_name.\n        default: None\n\n\n\n    Returns\n    -------\n\n    The list of regulatory links, ordered according to the edge score. Auto-regulations do not appear in the list. Regulatory links with a score equal to zero are randomly permuted. In the ranked list of edges, each line has format:\n\n        regulator   target gene     score of edge\n    \"\"\"\n\n    # Check input arguments\n    if not isinstance(VIM,ndarray):\n        raise ValueError('VIM must be a square array')\n    elif VIM.shape[0] != VIM.shape[1]:\n        raise ValueError('VIM must be a square array')\n\n    ngenes = VIM.shape[0]\n\n    if gene_names:\n        if not isinstance(gene_names,(list,tuple)):\n            raise ValueError('input argument gene_names must be a list of gene names')\n        elif len(gene_names) != ngenes:\n            raise ValueError('input argument gene_names must be a list of length p, where p is the number of columns/genes in the expression data')\n\n    if regulators != 'all':\n        if not isinstance(regulators,(list,tuple)):\n            raise ValueError('input argument regulators must be a list of gene names')\n\n        if gene_names is None:\n            raise ValueError('the gene names must be specified (in input argument gene_names)')\n        else:\n            sIntersection = set(gene_names).intersection(set(regulators))\n            if not sIntersection:\n                raise ValueError('The genes must contain at least one candidate regulator')\n\n    if maxcount != 'all' and not isinstance(maxcount,int):\n        raise ValueError('input argument maxcount must be \"all\" or a positive integer')\n\n    if file_name and not isinstance(file_name,str):\n        raise ValueError('input argument file_name must be a string')\n\n\n\n    # Get the indices of the candidate regulators\n    if regulators == 'all':\n        input_idx = range(ngenes)\n    else:\n        input_idx = [i for i, gene in enumerate(gene_names) if gene in regulators]\n\n    # Get the non-ranked list of regulatory links\n    vInter = [(i,j,score) for (i,j),score in ndenumerate(VIM) if i in input_idx and i!=j]\n\n    # Rank the list according to the weights of the edges\n    vInter_sort = sorted(vInter,key=itemgetter(2),reverse=True)\n    nInter = len(vInter_sort)\n\n    # Random permutation of edges with score equal to 0\n    flag = 1\n    i = 0\n    while flag and i < nInter:\n        print(f'nInter = {i}')\n        (TF_idx,target_idx,score) = vInter_sort[i]\n        if score == 0:\n            flag = 0\n        else:\n            i += 1\n\n    if not flag:\n        items_perm = vInter_sort[i:]\n        items_perm = random.permutation(items_perm)\n        vInter_sort[i:] = items_perm\n\n    # Write the ranked list of edges\n    nToWrite = nInter\n    if isinstance(maxcount,int) and maxcount >= 0 and maxcount < nInter:\n        nToWrite = maxcount\n\n    if file_name:\n\n        outfile = open(file_name,'w')\n\n        if gene_names:\n            for i in range(nToWrite):\n                (TF_idx,target_idx,score) = vInter_sort[i]\n                TF_idx = int(TF_idx)\n                target_idx = int(target_idx)\n                outfile.write('%s\\t%s\\t%.6f\\n' % (gene_names[TF_idx],gene_names[target_idx],score))\n        else:\n            for i in range(nToWrite):\n                (TF_idx,target_idx,score) = vInter_sort[i]\n                TF_idx = int(TF_idx)\n                target_idx = int(target_idx)\n                outfile.write('G%d\\tG%d\\t%.6f\\n' % (TF_idx+1,target_idx+1,score))\n\n\n        outfile.close()\n\n    else:\n\n        if gene_names:\n            for i in range(nToWrite):\n                (TF_idx,target_idx,score) = vInter_sort[i]\n                TF_idx = int(TF_idx)\n                target_idx = int(target_idx)\n                print('%s\\t%s\\t%.6f' % (gene_names[TF_idx],gene_names[target_idx],score))\n        else:\n            for i in range(nToWrite):\n                (TF_idx,target_idx,score) = vInter_sort[i]\n                TF_idx = int(TF_idx)\n                target_idx = int(target_idx)\n                print('G%d\\tG%d\\t%.6f' % (TF_idx+1,target_idx+1,score))\n\n\n\ndef GENIE3(expr_data,gene_names=None,regulators='all',tree_method='RF',K='sqrt',ntrees=1000,nthreads=1):\n\n    '''Computation of tree-based scores for all putative regulatory links.\n\n    Parameters\n    ----------\n\n    expr_data: numpy array\n        Array containing gene expression values. Each row corresponds to a condition and each column corresponds to a gene.\n\n    gene_names: list of strings, optional\n        List of length p, where p is the number of columns in expr_data, containing the names of the genes. The i-th item of gene_names must correspond to the i-th column of expr_data.\n        default: None\n\n    regulators: list of strings, optional\n        List containing the names of the candidate regulators. When a list of regulators is provided, the names of all the genes must be provided (in gene_names). When regulators is set to 'all', any gene can be a candidate regulator.\n        default: 'all'\n\n    tree-method: 'RF' or 'ET', optional\n        Specifies which tree-based procedure is used: either Random Forest ('RF') or Extra-Trees ('ET')\n        default: 'RF'\n\n    K: 'sqrt', 'all' or a positive integer, optional\n        Specifies the number of selected attributes at each node of one tree: either the square root of the number of candidate regulators ('sqrt'), the total number of candidate regulators ('all'), or any positive integer.\n        default: 'sqrt'\n\n    ntrees: positive integer, optional\n        Specifies the number of trees grown in an ensemble.\n        default: 1000\n\n    nthreads: positive integer, optional\n        Number of threads used for parallel computing\n        default: 1\n\n\n    Returns\n    -------\n    An array in which the element (i,j) is the score of the edge directed from the i-th gene to the j-th gene. All diagonal elements are set to zero (auto-regulations are not considered). When a list of candidate regulators is provided, the scores of all the edges directed from a gene that is not a candidate regulator are set to zero.\n\n    G1, G2, G3, G4, G5, ... GN\n    num cols (genes) = N\n    num rows (samples) = M\n    k = sqrt(N)\n    ntrees = 1000\n\n    not even one gene, time complexity one tree = Nk logk\n    one gene, time complexity of one RF = ntrees * Nk logk\n    all genes, number of trees in all RF = ntrees * (N^2)k logk\n\n    G1  G5  0.0342   1\n    G1  G2  0.0324   1\n    G2  G13 0.0274   0\n\n    N^2 = 30,000^2 = 900,000,000\n\n    Threshold: e.g. 0.3\n    '''\n\n    time_start = time.time()\n\n    # Check input arguments\n    if not isinstance(expr_data,ndarray):\n        raise ValueError('expr_data must be an array in which each row corresponds to a condition/sample and each column corresponds to a gene')\n\n    ngenes = expr_data.shape[1]\n\n    if gene_names:\n        if not isinstance(gene_names,(list,tuple)):\n            raise ValueError('input argument gene_names must be a list of gene names')\n        elif len(gene_names) != ngenes:\n            raise ValueError('input argument gene_names must be a list of length p, where p is the number of columns/genes in the expr_data')\n\n    if regulators != 'all':\n        if not isinstance(regulators,(list,tuple)):\n            raise ValueError('input argument regulators must be a list of gene names')\n\n        if gene_names is None:\n            raise ValueError('the gene names must be specified (in input argument gene_names)')\n        else:\n            sIntersection = set(gene_names).intersection(set(regulators))\n            if not sIntersection:\n                raise ValueError('the genes must contain at least one candidate regulator')\n\n    if tree_method != 'RF' and tree_method != 'ET':\n        raise ValueError('input argument tree_method must be \"RF\" (Random Forests) or \"ET\" (Extra-Trees)')\n\n    if K != 'sqrt' and K != 'all' and not isinstance(K,int):\n        raise ValueError('input argument K must be \"sqrt\", \"all\" or a stricly positive integer')\n\n    if isinstance(K,int) and K <= 0:\n        raise ValueError('input argument K must be \"sqrt\", \"all\" or a stricly positive integer')\n\n    if not isinstance(ntrees,int):\n        raise ValueError('input argument ntrees must be a stricly positive integer')\n    elif ntrees <= 0:\n        raise ValueError('input argument ntrees must be a stricly positive integer')\n\n    if not isinstance(nthreads,int):\n        raise ValueError('input argument nthreads must be a stricly positive integer')\n    elif nthreads <= 0:\n        raise ValueError('input argument nthreads must be a stricly positive integer')\n\n\n    print('Tree method: ' + str(tree_method))\n    print('K: ' + str(K))\n    print('Number of trees: ' + str(ntrees))\n    print('\\n')\n\n\n    # Get the indices of the candidate regulators\n    if regulators == 'all':\n        input_idx = list(range(ngenes))\n    else:\n        input_idx = [i for i, gene in enumerate(gene_names) if gene in regulators]\n\n\n    # Learn an ensemble of trees for each target gene, and compute scores for candidate regulators\n    VIM = zeros((ngenes,ngenes))\n\n    if nthreads > 1:\n        print('running jobs on %d threads' % nthreads)\n\n        # list of list of paramaters, len is ngenes\n        input_data = list()\n        for i in range(ngenes):\n            # Parameters of GENIE3 function, i refers to output_idx\n            input_data.append( [expr_data,i,input_idx,tree_method,K,ntrees] )\n            \n        \"\"\"\n        5 instance, each instance 10,000 genes\n        #####  #####  #####  #####  #####\n        Instance 1: 1 - 10,000\n        Instance 2: 10,001 - 20,000\n        Instance 3: 20,001 - 30,000\n        \"\"\"\n\n        # TODO change to SageMaker parallelism\n        # https://docs.aws.amazon.com/sagemaker/latest/dg/model-parallel-use-api.html\n        # PARALLEL process targeting each gene\n        pool = Pool(nthreads)\n        alloutput = pool.map(wr_GENIE3_single, input_data)\n\n        # len(alloutput) is ngenes\n        for (i,vi) in alloutput:\n            VIM[i,:] = vi\n\n    else:\n        print('running single threaded jobs')\n        for i in range(ngenes):\n            print('Gene %d/%d...' % (i+1,ngenes))\n\n            vi = GENIE3_single(expr_data,i,input_idx,tree_method,K,ntrees)\n            VIM[i,:] = vi\n\n\n    VIM = transpose(VIM)\n\n    time_end = time.time()\n    print(\"Elapsed time: %.2f seconds\" % (time_end - time_start))\n\n    return VIM\n\n\n# function for single thread\ndef wr_GENIE3_single(args):\n    return([args[1], GENIE3_single(args[0], args[1], args[2], args[3], args[4], args[5])])\n\n\n# In parallel, split up the output_idx\ndef GENIE3_single(expr_data,output_idx,input_idx,tree_method,K,ntrees):\n\n    ngenes = expr_data.shape[1]\n\n    # Expression of target gene, select column\n    output = expr_data[:,output_idx]\n\n    # Normalize output data\n    output = output / std(output)\n\n    # Remove target gene from candidate regulators\n    input_idx = input_idx[:]\n    if output_idx in input_idx:\n        input_idx.remove(output_idx)\n    expr_data_input = expr_data[:,input_idx]\n\n    # Parameter K of the tree-based method\n    if (K == 'all') or (isinstance(K,int) and K >= len(input_idx)):\n        max_features = \"auto\"\n    else:\n        max_features = K\n\n    if tree_method == 'RF':\n        treeEstimator = RandomForestRegressor(n_estimators=ntrees,max_features=max_features)\n    elif tree_method == 'ET':\n        treeEstimator = ExtraTreesRegressor(n_estimators=ntrees,max_features=max_features)\n\n    # Learn ensemble of trees\n    treeEstimator.fit(expr_data_input,output)\n#     expr_data_input_csv = np.savetxt(s3_intermediate + \"expr_data_input.csv\", expr_data_input, delimiter=\",\")\n#     output_csv = np.savetxt(s3_intermediate + \"output.csv\", output, delimiter=\",\")\n#     estimator.fit({'train':sagemaker.inputs.TrainingInput(expr_data_input_csv), 'validation':sagemaker.inputs.TrainingInput(output_csv)})\n\n    # Compute importance scores\n    feature_importances = compute_feature_importances(treeEstimator)\n    vi = zeros(ngenes)\n\n    # for each target, all the other genes\n    vi[input_idx] = feature_importances\n\n    return vi\n",
      "execution_count": null,
      "outputs": []
    },
    {
      "cell_type": "markdown",
      "source": "<a style='text-decoration:none;line-height:16px;display:flex;color:#5B5B62;padding:10px;justify-content:end;' href='https://deepnote.com?utm_source=created-in-deepnote-cell&projectId=a3a1fdb0-4946-49ac-bb9f-c39b38835b36' target=\"_blank\">\n<img alt='Created in deepnote.com' style='display:inline;max-height:16px;margin:0px;margin-right:7.5px;' src='data:image/svg+xml;base64,PD94bWwgdmVyc2lvbj0iMS4wIiBlbmNvZGluZz0iVVRGLTgiPz4KPHN2ZyB3aWR0aD0iODBweCIgaGVpZ2h0PSI4MHB4IiB2aWV3Qm94PSIwIDAgODAgODAiIHZlcnNpb249IjEuMSIgeG1sbnM9Imh0dHA6Ly93d3cudzMub3JnLzIwMDAvc3ZnIiB4bWxuczp4bGluaz0iaHR0cDovL3d3dy53My5vcmcvMTk5OS94bGluayI+CiAgICA8IS0tIEdlbmVyYXRvcjogU2tldGNoIDU0LjEgKDc2NDkwKSAtIGh0dHBzOi8vc2tldGNoYXBwLmNvbSAtLT4KICAgIDx0aXRsZT5Hcm91cCAzPC90aXRsZT4KICAgIDxkZXNjPkNyZWF0ZWQgd2l0aCBTa2V0Y2guPC9kZXNjPgogICAgPGcgaWQ9IkxhbmRpbmciIHN0cm9rZT0ibm9uZSIgc3Ryb2tlLXdpZHRoPSIxIiBmaWxsPSJub25lIiBmaWxsLXJ1bGU9ImV2ZW5vZGQiPgogICAgICAgIDxnIGlkPSJBcnRib2FyZCIgdHJhbnNmb3JtPSJ0cmFuc2xhdGUoLTEyMzUuMDAwMDAwLCAtNzkuMDAwMDAwKSI+CiAgICAgICAgICAgIDxnIGlkPSJHcm91cC0zIiB0cmFuc2Zvcm09InRyYW5zbGF0ZSgxMjM1LjAwMDAwMCwgNzkuMDAwMDAwKSI+CiAgICAgICAgICAgICAgICA8cG9seWdvbiBpZD0iUGF0aC0yMCIgZmlsbD0iIzAyNjVCNCIgcG9pbnRzPSIyLjM3NjIzNzYyIDgwIDM4LjA0NzY2NjcgODAgNTcuODIxNzgyMiA3My44MDU3NTkyIDU3LjgyMTc4MjIgMzIuNzU5MjczOSAzOS4xNDAyMjc4IDMxLjY4MzE2ODMiPjwvcG9seWdvbj4KICAgICAgICAgICAgICAgIDxwYXRoIGQ9Ik0zNS4wMDc3MTgsODAgQzQyLjkwNjIwMDcsNzYuNDU0OTM1OCA0Ny41NjQ5MTY3LDcxLjU0MjI2NzEgNDguOTgzODY2LDY1LjI2MTk5MzkgQzUxLjExMjI4OTksNTUuODQxNTg0MiA0MS42NzcxNzk1LDQ5LjIxMjIyODQgMjUuNjIzOTg0Niw0OS4yMTIyMjg0IEMyNS40ODQ5Mjg5LDQ5LjEyNjg0NDggMjkuODI2MTI5Niw0My4yODM4MjQ4IDM4LjY0NzU4NjksMzEuNjgzMTY4MyBMNzIuODcxMjg3MSwzMi41NTQ0MjUgTDY1LjI4MDk3Myw2Ny42NzYzNDIxIEw1MS4xMTIyODk5LDc3LjM3NjE0NCBMMzUuMDA3NzE4LDgwIFoiIGlkPSJQYXRoLTIyIiBmaWxsPSIjMDAyODY4Ij48L3BhdGg+CiAgICAgICAgICAgICAgICA8cGF0aCBkPSJNMCwzNy43MzA0NDA1IEwyNy4xMTQ1MzcsMC4yNTcxMTE0MzYgQzYyLjM3MTUxMjMsLTEuOTkwNzE3MDEgODAsMTAuNTAwMzkyNyA4MCwzNy43MzA0NDA1IEM4MCw2NC45NjA0ODgyIDY0Ljc3NjUwMzgsNzkuMDUwMzQxNCAzNC4zMjk1MTEzLDgwIEM0Ny4wNTUzNDg5LDc3LjU2NzA4MDggNTMuNDE4MjY3Nyw3MC4zMTM2MTAzIDUzLjQxODI2NzcsNTguMjM5NTg4NSBDNTMuNDE4MjY3Nyw0MC4xMjg1NTU3IDM2LjMwMzk1NDQsMzcuNzMwNDQwNSAyNS4yMjc0MTcsMzcuNzMwNDQwNSBDMTcuODQzMDU4NiwzNy43MzA0NDA1IDkuNDMzOTE5NjYsMzcuNzMwNDQwNSAwLDM3LjczMDQ0MDUgWiIgaWQ9IlBhdGgtMTkiIGZpbGw9IiMzNzkzRUYiPjwvcGF0aD4KICAgICAgICAgICAgPC9nPgogICAgICAgIDwvZz4KICAgIDwvZz4KPC9zdmc+' > </img>\nCreated in <span style='font-weight:600;margin-left:4px;'>Deepnote</span></a>",
      "metadata": {
        "tags": [],
        "created_in_deepnote_cell": true,
        "deepnote_cell_type": "markdown"
      }
    }
  ],
  "nbformat": 4,
  "nbformat_minor": 4,
  "metadata": {
    "deepnote": {
      "is_reactive": false
    },
    "deepnote_execution_queue": [],
    "deepnote_notebook_id": "cb55103f-1c98-40e9-b18b-95231471db2b",
    "kernelspec": {
      "display_name": "conda_mxnet_p36",
      "language": "python",
      "name": "conda_mxnet_p36"
    },
    "language_info": {
      "codemirror_mode": {
        "name": "ipython",
        "version": 3
      },
      "file_extension": ".py",
      "mimetype": "text/x-python",
      "name": "python",
      "nbconvert_exporter": "python",
      "pygments_lexer": "ipython3",
      "version": "3.6.13"
    }
  }
}