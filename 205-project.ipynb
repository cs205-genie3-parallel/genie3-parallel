{
  "cells": [
    {
      "cell_type": "code",
      "metadata": {
        "tags": [],
        "cell_id": "00000-1a46a4e7-4efd-4cc1-8cb2-860e51797e51",
        "deepnote_to_be_reexecuted": false,
        "source_hash": "dd12eb27",
        "execution_start": 1620139428930,
        "execution_millis": 2,
        "deepnote_cell_type": "code"
      },
      "source": "#from sklearn.tree.tree import BaseDecisionTree\n#from sklearn.ensemble import RandomForestRegressor, ExtraTreesRegressor\nimport numpy as np\nimport time\nfrom operator import itemgetter\nfrom multiprocessing import Pool",
      "execution_count": 20,
      "outputs": []
    },
    {
      "cell_type": "code",
      "metadata": {
        "tags": [],
        "cell_id": "00001-61ef7efc-7739-4760-b6c8-39daf1192af0",
        "deepnote_to_be_reexecuted": false,
        "source_hash": "cfae35e8",
        "execution_start": 1620139399898,
        "execution_millis": 1130,
        "deepnote_cell_type": "code"
      },
      "source": "import sagemaker\nimport boto3\n# from sagemaker.amazon.amazon_estimator import get_image_uri\nfrom sagemaker.session import s3_input, Session",
      "execution_count": 19,
      "outputs": []
    },
    {
      "cell_type": "code",
      "source": "my_region = boto3.session.Session().region_name\n\nbucket_name = 'cs205-bucket'\ns3 = boto3.resource('s3')\ntry:\n    if  my_region == 'us-east-1':\n        s3.create_bucket(Bucket=bucket_name)\n    else: \n        s3.create_bucket(Bucket=bucket_name, CreateBucketConfiguration={ 'LocationConstraint': my_region })\n    print('S3 bucket created successfully')\nexcept Exception as e:\n    print('S3 error: ',e)",
      "metadata": {
        "tags": [],
        "cell_id": "00002-b85dc1e6-53cd-498e-9e13-59a2ab71927e",
        "deepnote_to_be_reexecuted": false,
        "source_hash": "1e88fb65",
        "execution_start": 1620139571765,
        "execution_millis": 815,
        "deepnote_cell_type": "code"
      },
      "outputs": [
        {
          "name": "stdout",
          "text": "S3 error:  Parameter validation failed:\nInvalid type for parameter CreateBucketConfiguration.LocationConstraint, value: None, type: <class 'NoneType'>, valid types: <class 'str'>\n",
          "output_type": "stream"
        }
      ],
      "execution_count": 25
    },
    {
      "cell_type": "code",
      "source": "# Loads two datasets\nboto3.Session().resource('s3').Bucket(bucket_name).Object(os.path.join(prefix, 'healthy.tsv')).upload_file('healthy.tsv')\nhealthy_data = sagemaker.inputs.TrainingInput(s3_data='s3://{}/{}/train'.format(bucket_name, prefix), content_type='tsv')\n\nboto3.Session().resource('s3').Bucket(bucket_name).Object(os.path.join(prefix, 'cancer.tsv')).upload_file('cancer.tsv')\ncancer_data = sagemaker.inputs.TrainingInput(s3_data='s3://{}/{}/test'.format(bucket_name, prefix), content_type='csv')",
      "metadata": {
        "tags": [],
        "cell_id": "00003-2fcbb70a-949d-4b89-b935-69124b969663",
        "deepnote_to_be_reexecuted": false,
        "source_hash": "7443c4e0",
        "execution_start": 1620139575519,
        "execution_millis": 304,
        "deepnote_cell_type": "code"
      },
      "outputs": [
        {
          "output_type": "error",
          "ename": "NameError",
          "evalue": "name 'os' is not defined",
          "traceback": [
            "\u001b[0;31m---------------------------------------------------------------------------\u001b[0m",
            "\u001b[0;31mNameError\u001b[0m                                 Traceback (most recent call last)",
            "\u001b[0;32m<ipython-input-26-e39e04311536>\u001b[0m in \u001b[0;36m<module>\u001b[0;34m\u001b[0m\n\u001b[1;32m      1\u001b[0m \u001b[0;31m# Loads two datasets\u001b[0m\u001b[0;34m\u001b[0m\u001b[0;34m\u001b[0m\u001b[0;34m\u001b[0m\u001b[0m\n\u001b[0;32m----> 2\u001b[0;31m \u001b[0mboto3\u001b[0m\u001b[0;34m.\u001b[0m\u001b[0mSession\u001b[0m\u001b[0;34m(\u001b[0m\u001b[0;34m)\u001b[0m\u001b[0;34m.\u001b[0m\u001b[0mresource\u001b[0m\u001b[0;34m(\u001b[0m\u001b[0;34m's3'\u001b[0m\u001b[0;34m)\u001b[0m\u001b[0;34m.\u001b[0m\u001b[0mBucket\u001b[0m\u001b[0;34m(\u001b[0m\u001b[0mbucket_name\u001b[0m\u001b[0;34m)\u001b[0m\u001b[0;34m.\u001b[0m\u001b[0mObject\u001b[0m\u001b[0;34m(\u001b[0m\u001b[0mos\u001b[0m\u001b[0;34m.\u001b[0m\u001b[0mpath\u001b[0m\u001b[0;34m.\u001b[0m\u001b[0mjoin\u001b[0m\u001b[0;34m(\u001b[0m\u001b[0mprefix\u001b[0m\u001b[0;34m,\u001b[0m \u001b[0;34m'healthy.tsv'\u001b[0m\u001b[0;34m)\u001b[0m\u001b[0;34m)\u001b[0m\u001b[0;34m.\u001b[0m\u001b[0mupload_file\u001b[0m\u001b[0;34m(\u001b[0m\u001b[0;34m'healthy.tsv'\u001b[0m\u001b[0;34m)\u001b[0m\u001b[0;34m\u001b[0m\u001b[0;34m\u001b[0m\u001b[0m\n\u001b[0m\u001b[1;32m      3\u001b[0m \u001b[0mhealthy_data\u001b[0m \u001b[0;34m=\u001b[0m \u001b[0msagemaker\u001b[0m\u001b[0;34m.\u001b[0m\u001b[0minputs\u001b[0m\u001b[0;34m.\u001b[0m\u001b[0mTrainingInput\u001b[0m\u001b[0;34m(\u001b[0m\u001b[0ms3_data\u001b[0m\u001b[0;34m=\u001b[0m\u001b[0;34m's3://{}/{}/train'\u001b[0m\u001b[0;34m.\u001b[0m\u001b[0mformat\u001b[0m\u001b[0;34m(\u001b[0m\u001b[0mbucket_name\u001b[0m\u001b[0;34m,\u001b[0m \u001b[0mprefix\u001b[0m\u001b[0;34m)\u001b[0m\u001b[0;34m,\u001b[0m \u001b[0mcontent_type\u001b[0m\u001b[0;34m=\u001b[0m\u001b[0;34m'tsv'\u001b[0m\u001b[0;34m)\u001b[0m\u001b[0;34m\u001b[0m\u001b[0;34m\u001b[0m\u001b[0m\n\u001b[1;32m      4\u001b[0m \u001b[0;34m\u001b[0m\u001b[0m\n\u001b[1;32m      5\u001b[0m \u001b[0mboto3\u001b[0m\u001b[0;34m.\u001b[0m\u001b[0mSession\u001b[0m\u001b[0;34m(\u001b[0m\u001b[0;34m)\u001b[0m\u001b[0;34m.\u001b[0m\u001b[0mresource\u001b[0m\u001b[0;34m(\u001b[0m\u001b[0;34m's3'\u001b[0m\u001b[0;34m)\u001b[0m\u001b[0;34m.\u001b[0m\u001b[0mBucket\u001b[0m\u001b[0;34m(\u001b[0m\u001b[0mbucket_name\u001b[0m\u001b[0;34m)\u001b[0m\u001b[0;34m.\u001b[0m\u001b[0mObject\u001b[0m\u001b[0;34m(\u001b[0m\u001b[0mos\u001b[0m\u001b[0;34m.\u001b[0m\u001b[0mpath\u001b[0m\u001b[0;34m.\u001b[0m\u001b[0mjoin\u001b[0m\u001b[0;34m(\u001b[0m\u001b[0mprefix\u001b[0m\u001b[0;34m,\u001b[0m \u001b[0;34m'cancer.tsv'\u001b[0m\u001b[0;34m)\u001b[0m\u001b[0;34m)\u001b[0m\u001b[0;34m.\u001b[0m\u001b[0mupload_file\u001b[0m\u001b[0;34m(\u001b[0m\u001b[0;34m'cancer.tsv'\u001b[0m\u001b[0;34m)\u001b[0m\u001b[0;34m\u001b[0m\u001b[0;34m\u001b[0m\u001b[0m\n",
            "\u001b[0;31mNameError\u001b[0m: name 'os' is not defined"
          ]
        }
      ],
      "execution_count": 26
    },
    {
      "cell_type": "code",
      "source": "# Sagemaker Data Wrangler\n\ndata = healthy_data\n\n# get the gene names from the second column called \"Gene Name\"\ngene_names = data['Gene Name']\n\n# transpose",
      "metadata": {
        "tags": [],
        "cell_id": "00004-b7afe127-a1c2-4467-90be-a7fa8ffdeaf2",
        "deepnote_cell_type": "code"
      },
      "outputs": [],
      "execution_count": null
    },
    {
      "cell_type": "code",
      "source": "VIM = GENIE3(data)\nget_link_list(VIM, gene_names=gene_names,file_name='output_ranking.txt')",
      "metadata": {
        "tags": [],
        "cell_id": "00005-5a61ea08-b041-4e20-8139-3a653d1361b8",
        "deepnote_cell_type": "code"
      },
      "outputs": [],
      "execution_count": null
    },
    {
      "cell_type": "code",
      "source": "# build and train the model\ncontainer = get_image_uri(boto3.Session().region_name,'xgboost', repo_version='1.0-1')  # loads the xgboost model\n\n# check\n# max_depth = np.sqrt(healthy_data.shape[0])\n\n\nhyperparameters = {'max_depth':7,\n                   'eta':'0.2',\n                   'gamma':'4',\n                   'min_child_weight':'6',\n                   'subsample':'0.7',\n                   'objective':'binary:logistic',\n                   'num_round':50\n                  }\n                  \nestimator = sagemaker.estimator.Estimator(image_uri = container,\n                                         hyperparameters = hyperparameters,\n                                         role = sagemaker.get_execution_role(),\n                                         train_instance_count = 1,\n                                         train_instance_type = 'm1.m5.2xlarge',\n                                         train_volume_size = 5,\n                                         output_path = output_path,\n                                         train_use_spot_instance = True,\n                                         train_max_run = 300,\n                                         train_max_wait = 600)\nestimator.fit({'train':s3_input_train, 'validation':s3_input_test}) ",
      "metadata": {
        "tags": [],
        "cell_id": "00004-26e1dc4d-a5df-4b5d-a89f-d141ff6e7749",
        "deepnote_cell_type": "code"
      },
      "outputs": [],
      "execution_count": null
    },
    {
      "cell_type": "code",
      "source": "# deployment\nxgb_predictor = xgb.deploy(initial_instance_count=1,instance_type='ml.m4.xlarge')",
      "metadata": {
        "tags": [],
        "cell_id": "00005-0bbdbcb1-5d4b-4a36-adfd-960c90d9016a",
        "deepnote_cell_type": "code"
      },
      "outputs": [],
      "execution_count": null
    },
    {
      "cell_type": "code",
      "source": "def compute_feature_importances(estimator):\n    if isinstance(estimator, BaseDecisionTree):\n        return estimator.tree_.compute_feature_importances(normalize=False)\n    else:\n        importances = [e.tree_.compute_feature_importances(normalize=False)\n                       for e in estimator.estimators_]\n        importances = asarray(importances)\n        # number of samples meeting these conditions / total number of samples\n        return sum(importances,axis=0) / len(estimator)\n\ndef get_link_list(VIM,gene_names=None,regulators='all',maxcount='all',file_name=None):\n\n    \"\"\"Gets the ranked list of (directed) regulatory links.\n\n    Parameters\n    ----------\n\n    VIM: numpy array\n        Array as returned by the function GENIE3(), in which the element (i,j) is the score of the edge directed from the i-th gene to the j-th gene.\n\n    gene_names: list of strings, optional\n        List of length p, where p is the number of rows/columns in VIM, containing the names of the genes. The i-th item of gene_names must correspond to the i-th row/column of VIM. When the gene names are not provided, the i-th gene is named Gi.\n        default: None\n\n    regulators: list of strings, optional\n        List containing the names of the candidate regulators. When a list of regulators is provided, the names of all the genes must be provided (in gene_names), and the returned list contains only edges directed from the candidate regulators. When regulators is set to 'all', any gene can be a candidate regulator.\n        default: 'all'\n\n    maxcount: 'all' or positive integer, optional\n        Writes only the first maxcount regulatory links of the ranked list. When maxcount is set to 'all', all the regulatory links are written.\n        default: 'all'\n\n    file_name: string, optional\n        Writes the ranked list of regulatory links to the file file_name.\n        default: None\n\n\n\n    Returns\n    -------\n\n    The list of regulatory links, ordered according to the edge score. Auto-regulations do not appear in the list. Regulatory links with a score equal to zero are randomly permuted. In the ranked list of edges, each line has format:\n\n        regulator   target gene     score of edge\n    \"\"\"\n\n    # Check input arguments\n    if not isinstance(VIM,ndarray):\n        raise ValueError('VIM must be a square array')\n    elif VIM.shape[0] != VIM.shape[1]:\n        raise ValueError('VIM must be a square array')\n\n    ngenes = VIM.shape[0]\n\n    if gene_names:\n        if not isinstance(gene_names,(list,tuple)):\n            raise ValueError('input argument gene_names must be a list of gene names')\n        elif len(gene_names) != ngenes:\n            raise ValueError('input argument gene_names must be a list of length p, where p is the number of columns/genes in the expression data')\n\n    if regulators != 'all':\n        if not isinstance(regulators,(list,tuple)):\n            raise ValueError('input argument regulators must be a list of gene names')\n\n        if gene_names is None:\n            raise ValueError('the gene names must be specified (in input argument gene_names)')\n        else:\n            sIntersection = set(gene_names).intersection(set(regulators))\n            if not sIntersection:\n                raise ValueError('The genes must contain at least one candidate regulator')\n\n    if maxcount != 'all' and not isinstance(maxcount,int):\n        raise ValueError('input argument maxcount must be \"all\" or a positive integer')\n\n    if file_name and not isinstance(file_name,str):\n        raise ValueError('input argument file_name must be a string')\n\n\n\n    # Get the indices of the candidate regulators\n    if regulators == 'all':\n        input_idx = range(ngenes)\n    else:\n        input_idx = [i for i, gene in enumerate(gene_names) if gene in regulators]\n\n    # Get the non-ranked list of regulatory links\n    vInter = [(i,j,score) for (i,j),score in ndenumerate(VIM) if i in input_idx and i!=j]\n\n    # Rank the list according to the weights of the edges\n    vInter_sort = sorted(vInter,key=itemgetter(2),reverse=True)\n    nInter = len(vInter_sort)\n\n    # Random permutation of edges with score equal to 0\n    flag = 1\n    i = 0\n    while flag and i < nInter:\n        print(f'nInter = {i}')\n        (TF_idx,target_idx,score) = vInter_sort[i]\n        if score == 0:\n            flag = 0\n        else:\n            i += 1\n\n    if not flag:\n        items_perm = vInter_sort[i:]\n        items_perm = random.permutation(items_perm)\n        vInter_sort[i:] = items_perm\n\n    # Write the ranked list of edges\n    nToWrite = nInter\n    if isinstance(maxcount,int) and maxcount >= 0 and maxcount < nInter:\n        nToWrite = maxcount\n\n    if file_name:\n\n        outfile = open(file_name,'w')\n\n        if gene_names:\n            for i in range(nToWrite):\n                (TF_idx,target_idx,score) = vInter_sort[i]\n                TF_idx = int(TF_idx)\n                target_idx = int(target_idx)\n                outfile.write('%s\\t%s\\t%.6f\\n' % (gene_names[TF_idx],gene_names[target_idx],score))\n        else:\n            for i in range(nToWrite):\n                (TF_idx,target_idx,score) = vInter_sort[i]\n                TF_idx = int(TF_idx)\n                target_idx = int(target_idx)\n                outfile.write('G%d\\tG%d\\t%.6f\\n' % (TF_idx+1,target_idx+1,score))\n\n\n        outfile.close()\n\n    else:\n\n        if gene_names:\n            for i in range(nToWrite):\n                (TF_idx,target_idx,score) = vInter_sort[i]\n                TF_idx = int(TF_idx)\n                target_idx = int(target_idx)\n                print('%s\\t%s\\t%.6f' % (gene_names[TF_idx],gene_names[target_idx],score))\n        else:\n            for i in range(nToWrite):\n                (TF_idx,target_idx,score) = vInter_sort[i]\n                TF_idx = int(TF_idx)\n                target_idx = int(target_idx)\n                print('G%d\\tG%d\\t%.6f' % (TF_idx+1,target_idx+1,score))\n\n\n\ndef GENIE3(expr_data,gene_names=None,regulators='all',tree_method='RF',K='sqrt',ntrees=1000,nthreads=1):\n\n    '''Computation of tree-based scores for all putative regulatory links.\n\n    Parameters\n    ----------\n\n    expr_data: numpy array\n        Array containing gene expression values. Each row corresponds to a condition and each column corresponds to a gene.\n\n    gene_names: list of strings, optional\n        List of length p, where p is the number of columns in expr_data, containing the names of the genes. The i-th item of gene_names must correspond to the i-th column of expr_data.\n        default: None\n\n    regulators: list of strings, optional\n        List containing the names of the candidate regulators. When a list of regulators is provided, the names of all the genes must be provided (in gene_names). When regulators is set to 'all', any gene can be a candidate regulator.\n        default: 'all'\n\n    tree-method: 'RF' or 'ET', optional\n        Specifies which tree-based procedure is used: either Random Forest ('RF') or Extra-Trees ('ET')\n        default: 'RF'\n\n    K: 'sqrt', 'all' or a positive integer, optional\n        Specifies the number of selected attributes at each node of one tree: either the square root of the number of candidate regulators ('sqrt'), the total number of candidate regulators ('all'), or any positive integer.\n        default: 'sqrt'\n\n    ntrees: positive integer, optional\n        Specifies the number of trees grown in an ensemble.\n        default: 1000\n\n    nthreads: positive integer, optional\n        Number of threads used for parallel computing\n        default: 1\n\n\n    Returns\n    -------\n    An array in which the element (i,j) is the score of the edge directed from the i-th gene to the j-th gene. All diagonal elements are set to zero (auto-regulations are not considered). When a list of candidate regulators is provided, the scores of all the edges directed from a gene that is not a candidate regulator are set to zero.\n\n    G1, G2, G3, G4, G5, ... GN\n    num cols (genes) = N\n    num rows (samples) = M\n    k = sqrt(N)\n    ntrees = 1000\n\n    not even one gene, time complexity one tree = Nk logk\n    one gene, time complexity of one RF = ntrees * Nk logk\n    all genes, number of trees in all RF = ntrees * (N^2)k logk\n\n    G1  G5  0.0342   1\n    G1  G2  0.0324   1\n    G2  G13 0.0274   0\n\n    N^2 = 30,000^2 = 900,000,000\n\n    Threshold: e.g. 0.3\n    '''\n\n    time_start = time.time()\n\n    # Check input arguments\n    if not isinstance(expr_data,ndarray):\n        raise ValueError('expr_data must be an array in which each row corresponds to a condition/sample and each column corresponds to a gene')\n\n    ngenes = expr_data.shape[1]\n\n    if gene_names:\n        if not isinstance(gene_names,(list,tuple)):\n            raise ValueError('input argument gene_names must be a list of gene names')\n        elif len(gene_names) != ngenes:\n            raise ValueError('input argument gene_names must be a list of length p, where p is the number of columns/genes in the expr_data')\n\n    if regulators != 'all':\n        if not isinstance(regulators,(list,tuple)):\n            raise ValueError('input argument regulators must be a list of gene names')\n\n        if gene_names is None:\n            raise ValueError('the gene names must be specified (in input argument gene_names)')\n        else:\n            sIntersection = set(gene_names).intersection(set(regulators))\n            if not sIntersection:\n                raise ValueError('the genes must contain at least one candidate regulator')\n\n    if tree_method != 'RF' and tree_method != 'ET':\n        raise ValueError('input argument tree_method must be \"RF\" (Random Forests) or \"ET\" (Extra-Trees)')\n\n    if K != 'sqrt' and K != 'all' and not isinstance(K,int):\n        raise ValueError('input argument K must be \"sqrt\", \"all\" or a stricly positive integer')\n\n    if isinstance(K,int) and K <= 0:\n        raise ValueError('input argument K must be \"sqrt\", \"all\" or a stricly positive integer')\n\n    if not isinstance(ntrees,int):\n        raise ValueError('input argument ntrees must be a stricly positive integer')\n    elif ntrees <= 0:\n        raise ValueError('input argument ntrees must be a stricly positive integer')\n\n    if not isinstance(nthreads,int):\n        raise ValueError('input argument nthreads must be a stricly positive integer')\n    elif nthreads <= 0:\n        raise ValueError('input argument nthreads must be a stricly positive integer')\n\n\n    print('Tree method: ' + str(tree_method))\n    print('K: ' + str(K))\n    print('Number of trees: ' + str(ntrees))\n    print('\\n')\n\n\n    # Get the indices of the candidate regulators\n    if regulators == 'all':\n        input_idx = list(range(ngenes))\n    else:\n        input_idx = [i for i, gene in enumerate(gene_names) if gene in regulators]\n\n\n    # Learn an ensemble of trees for each target gene, and compute scores for candidate regulators\n    VIM = zeros((ngenes,ngenes))\n\n    if nthreads > 1:\n        print('running jobs on %d threads' % nthreads)\n\n        # list of list of paramaters, len is ngenes\n        input_data = list()\n        for i in range(ngenes):\n            # Parameters of GENIE3 function, i refers to output_idx\n            input_data.append( [expr_data,i,input_idx,tree_method,K,ntrees] )\n\n        # TODO change to SageMaker parallelism\n        # PARALLEL process targeting each gene\n        pool = Pool(nthreads)\n        alloutput = pool.map(wr_GENIE3_single, input_data)\n\n        # len(alloutput) is ngenes\n        for (i,vi) in alloutput:\n            VIM[i,:] = vi\n\n    else:\n        print('running single threaded jobs')\n        for i in range(ngenes):\n            print('Gene %d/%d...' % (i+1,ngenes))\n\n            vi = GENIE3_single(expr_data,i,input_idx,tree_method,K,ntrees)\n            VIM[i,:] = vi\n\n\n    VIM = transpose(VIM)\n\n    time_end = time.time()\n    print(\"Elapsed time: %.2f seconds\" % (time_end - time_start))\n\n    return VIM\n\n\n# function for single thread\ndef wr_GENIE3_single(args):\n    return([args[1], GENIE3_single(args[0], args[1], args[2], args[3], args[4], args[5])])\n\n\n# In parallel, split up the output_idx\ndef GENIE3_single(expr_data,output_idx,input_idx,tree_method,K,ntrees):\n\n    ngenes = expr_data.shape[1]\n\n    # Expression of target gene, select column\n    output = expr_data[:,output_idx]\n\n    # Normalize output data\n    output = output / std(output)\n\n    # Remove target gene from candidate regulators\n    input_idx = input_idx[:]\n    if output_idx in input_idx:\n        input_idx.remove(output_idx)\n    expr_data_input = expr_data[:,input_idx]\n\n    # Parameter K of the tree-based method\n    if (K == 'all') or (isinstance(K,int) and K >= len(input_idx)):\n        max_features = \"auto\"\n    else:\n        max_features = K\n\n    # if tree_method == 'RF':\n    #     treeEstimator = RandomForestRegressor(n_estimators=ntrees,max_features=max_features)\n    # elif tree_method == 'ET':\n    #     treeEstimator = ExtraTreesRegressor(n_estimators=ntrees,max_features=max_features)\n\n\n    # Learn ensemble of trees\n    # treeEstimator.fit(expr_data_input,output)\n    estimator.fit({'train':expr_data_input, 'validation':output})\n\n    # Compute importance scores\n    feature_importances = compute_feature_importances(treeEstimator)\n    vi = zeros(ngenes)\n\n    # for each target, all the other genes\n    vi[input_idx] = feature_importances\n\n    return vi\n",
      "metadata": {
        "tags": [],
        "cell_id": "00002-13beed10-905a-4448-8a3b-6b32bcf533bb",
        "deepnote_cell_type": "code"
      },
      "outputs": [],
      "execution_count": null
    },
    {
      "cell_type": "markdown",
      "source": "<a style='text-decoration:none;line-height:16px;display:flex;color:#5B5B62;padding:10px;justify-content:end;' href='https://deepnote.com?utm_source=created-in-deepnote-cell&projectId=a3a1fdb0-4946-49ac-bb9f-c39b38835b36' target=\"_blank\">\n<img alt='Created in deepnote.com' style='display:inline;max-height:16px;margin:0px;margin-right:7.5px;' src='data:image/svg+xml;base64,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' > </img>\nCreated in <span style='font-weight:600;margin-left:4px;'>Deepnote</span></a>",
      "metadata": {
        "tags": [],
        "created_in_deepnote_cell": true,
        "deepnote_cell_type": "markdown"
      }
    }
  ],
  "nbformat": 4,
  "nbformat_minor": 2,
  "metadata": {
    "orig_nbformat": 2,
    "deepnote": {
      "is_reactive": false
    },
    "deepnote_notebook_id": "cb55103f-1c98-40e9-b18b-95231471db2b",
    "deepnote_execution_queue": []
  }
}